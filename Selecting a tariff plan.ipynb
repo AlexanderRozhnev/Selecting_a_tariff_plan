{
 "cells": [
  {
   "cell_type": "markdown",
   "metadata": {},
   "source": [
    "# Определение перспективного тарифа для телеком компании \"Мегалайн\"\n",
    "\n",
    "*Задача*\n",
    "\n",
    "Клиентам предлагают два тарифных плана: «Смарт» и «Ультра». Чтобы скорректировать рекламный бюджет, коммерческий департамент хочет понять, какой тариф приносит больше денег.\n",
    "Сделать предварительный анализ тарифов на небольшой выборке клиентов. В вашем распоряжении данные 500 пользователей «Мегалайна»: кто они, откуда, каким тарифом пользуются, сколько звонков и сообщений каждый отправил за 2018 год. Нужно проанализировать поведение клиентов и сделать вывод — какой тариф лучше."
   ]
  },
  {
   "cell_type": "markdown",
   "metadata": {},
   "source": [
    "**Навигатор**\n",
    "\n",
    "1. [Открытие данных, изучение общей информации](#start)\n",
    "2. [Подготовка данных](#preprocessing)\n",
    "    * [Шаг 2.1. Изменение типов данных](#types)\n",
    "    * [Шаг 2.2. Поиск и исправление ошибок](#errors)\n",
    "    * [Шаг 2.3. Расчёт количества сделанных звонков и израсходованных минут разговора по месяцам](#calls)\n",
    "    * [Шаг 2.4. Расчёт количества отправленных сообщений по месяцам](#messages)\n",
    "    * [Шаг 2.5. Расчёт объема израсходованного интернет-трафика по месяцам](#internet)\n",
    "    * [Шаг 2.6. Расчёт помесячной выручки с каждого пользователя](#income)\n",
    "3. [Анализ данных](#analyse)\n",
    "4. [Проверка гипотез:](#investigate)\n",
    "    * [Шаг 4.1. Средняя выручка пользователей тарифов «Ультра» и «Смарт» различается](#hyp_01)\n",
    "    * [Шаг 4.2. Средняя выручка пользователей из Москвы отличается от выручки пользователей из других регионов](#hyp_02)\n",
    "5. [Общий вывод](#final)"
   ]
  },
  {
   "cell_type": "markdown",
   "metadata": {},
   "source": [
    "*Импорт библиотек*"
   ]
  },
  {
   "cell_type": "code",
   "execution_count": 175,
   "metadata": {},
   "outputs": [],
   "source": [
    "# Все Бмблиотеки проекта\n",
    "import pandas as pd\n",
    "\n",
    "import numpy as np\n",
    "\n",
    "from scipy import stats as st\n",
    "\n",
    "# импортируем pymystem3\n",
    "from pymystem3 import Mystem\n",
    "\n",
    "# Графики\n",
    "import matplotlib.pyplot as plt\n",
    "\n",
    "# библиотека для загрузки файлов\n",
    "import os\n",
    "import urllib\n",
    "from pathlib import Path"
   ]
  },
  {
   "cell_type": "markdown",
   "metadata": {},
   "source": [
    "<a id=\"start\"></a>\n",
    "### Шаг 1. Открытие данных, изучение общей информации. \n",
    "\n",
    "*Путь к файлам:*\n",
    "-\t/datasets/calls.csv\n",
    "-\t/datasets/internet.csv\n",
    "-\t/datasets/messages.csv\n",
    "-\t/datasets/tariffs.csv\n",
    "-\t/datasets/users.csv\n"
   ]
  },
  {
   "cell_type": "code",
   "execution_count": 176,
   "metadata": {},
   "outputs": [],
   "source": [
    "# Проверка налчия файла в локальной папке, при отсутствии подкачка по URL\n",
    "Path('datasets').mkdir(parents= True, exist_ok= True)\n",
    "\n",
    "def get_file(file_name, url):\n",
    "    # Есть ли файл ?\n",
    "    if not os.path.exists(file_name):\n",
    "        print(file_name, 'файл не найден, будет загружен из сети')\n",
    "        # Скачаем файл по ссылке url, кладем по пути file_name\n",
    "        _ = urllib.request.urlretrieve(url, file_name)\n",
    "\n",
    "# Словарь с именем файла и ссылкой на него\n",
    "urls = {'calls':('/datasets/calls.csv', 'https://code.s3.yandex.net/datasets/calls.csv'),\n",
    "        'internet':('/datasets/internet.csv', 'https://code.s3.yandex.net/datasets/internet.csv'),\n",
    "        'messages':('/datasets/messages.csv', 'https://code.s3.yandex.net/datasets/messages.csv'),\n",
    "        'tariffs':('/datasets/tariffs.csv', 'https://code.s3.yandex.net/datasets/tariffs.csv'),\n",
    "        'users':('/datasets/users.csv', 'https://code.s3.yandex.net/datasets/users.csv')\n",
    "}\n",
    "\n",
    "# Подкачка файлов\n",
    "[get_file(*urls[url]) for url in urls]\n",
    "\n",
    "# Чтение в датафрейм\n",
    "calls = pd.read_csv(urls['calls'][0])\n",
    "internet = pd.read_csv(urls['internet'][0])\n",
    "messages = pd.read_csv(urls['messages'][0])\n",
    "tariffs = pd.read_csv(urls['tariffs'][0])\n",
    "users = pd.read_csv(urls['users'][0])"
   ]
  },
  {
   "cell_type": "markdown",
   "metadata": {},
   "source": [
    "<div class=\"alert alert-success\">\n",
    "<h2> Комментарий ревьюера </h2>\n",
    "\n",
    "Вау! Профессиональная загрузка файлов\n",
    "\n",
    "</div>"
   ]
  },
  {
   "cell_type": "code",
   "execution_count": 177,
   "metadata": {},
   "outputs": [],
   "source": [
    "# Изучение общей информации таблиц будем делать по одному сценарию\n",
    "def show_info(table):\n",
    "    table.info() # Общая информация\n",
    "    print('\\nНаименования столбцов:')\n",
    "    print(table.columns) # для проверки наименований столбцов\n",
    "    print('\\nПропущенные значения')\n",
    "    print(table.isnull().sum())\n",
    "    print('\\nДубликаты:', table.duplicated().sum())\n",
    "    display(table.head(5))"
   ]
  },
  {
   "cell_type": "markdown",
   "metadata": {},
   "source": [
    "Таблица **users** (информация о пользователях):\n",
    "- user_id — уникальный идентификатор пользователя\n",
    "- first_name — имя пользователя\n",
    "- last_name — фамилия пользователя\n",
    "- age — возраст пользователя (годы)\n",
    "- reg_date — дата подключения тарифа (день, месяц, год)\n",
    "- churn_date — дата прекращения пользования тарифом (если значение пропущено, то тариф ещё действовал на момент выгрузки данных)\n",
    "- city — город проживания пользователя\n",
    "- tariff — название тарифного плана"
   ]
  },
  {
   "cell_type": "code",
   "execution_count": 178,
   "metadata": {},
   "outputs": [
    {
     "name": "stdout",
     "output_type": "stream",
     "text": [
      "<class 'pandas.core.frame.DataFrame'>\n",
      "RangeIndex: 500 entries, 0 to 499\n",
      "Data columns (total 8 columns):\n",
      "user_id       500 non-null int64\n",
      "age           500 non-null int64\n",
      "churn_date    38 non-null object\n",
      "city          500 non-null object\n",
      "first_name    500 non-null object\n",
      "last_name     500 non-null object\n",
      "reg_date      500 non-null object\n",
      "tariff        500 non-null object\n",
      "dtypes: int64(2), object(6)\n",
      "memory usage: 31.4+ KB\n",
      "\n",
      "Наименования столбцов:\n",
      "Index(['user_id', 'age', 'churn_date', 'city', 'first_name', 'last_name',\n",
      "       'reg_date', 'tariff'],\n",
      "      dtype='object')\n",
      "\n",
      "Пропущенные значения\n",
      "user_id         0\n",
      "age             0\n",
      "churn_date    462\n",
      "city            0\n",
      "first_name      0\n",
      "last_name       0\n",
      "reg_date        0\n",
      "tariff          0\n",
      "dtype: int64\n",
      "\n",
      "Дубликаты: 0\n"
     ]
    },
    {
     "data": {
      "text/html": [
       "<div>\n",
       "<style scoped>\n",
       "    .dataframe tbody tr th:only-of-type {\n",
       "        vertical-align: middle;\n",
       "    }\n",
       "\n",
       "    .dataframe tbody tr th {\n",
       "        vertical-align: top;\n",
       "    }\n",
       "\n",
       "    .dataframe thead th {\n",
       "        text-align: right;\n",
       "    }\n",
       "</style>\n",
       "<table border=\"1\" class=\"dataframe\">\n",
       "  <thead>\n",
       "    <tr style=\"text-align: right;\">\n",
       "      <th></th>\n",
       "      <th>user_id</th>\n",
       "      <th>age</th>\n",
       "      <th>churn_date</th>\n",
       "      <th>city</th>\n",
       "      <th>first_name</th>\n",
       "      <th>last_name</th>\n",
       "      <th>reg_date</th>\n",
       "      <th>tariff</th>\n",
       "    </tr>\n",
       "  </thead>\n",
       "  <tbody>\n",
       "    <tr>\n",
       "      <td>0</td>\n",
       "      <td>1000</td>\n",
       "      <td>52</td>\n",
       "      <td>NaN</td>\n",
       "      <td>Краснодар</td>\n",
       "      <td>Рафаил</td>\n",
       "      <td>Верещагин</td>\n",
       "      <td>2018-05-25</td>\n",
       "      <td>ultra</td>\n",
       "    </tr>\n",
       "    <tr>\n",
       "      <td>1</td>\n",
       "      <td>1001</td>\n",
       "      <td>41</td>\n",
       "      <td>NaN</td>\n",
       "      <td>Москва</td>\n",
       "      <td>Иван</td>\n",
       "      <td>Ежов</td>\n",
       "      <td>2018-11-01</td>\n",
       "      <td>smart</td>\n",
       "    </tr>\n",
       "    <tr>\n",
       "      <td>2</td>\n",
       "      <td>1002</td>\n",
       "      <td>59</td>\n",
       "      <td>NaN</td>\n",
       "      <td>Стерлитамак</td>\n",
       "      <td>Евгений</td>\n",
       "      <td>Абрамович</td>\n",
       "      <td>2018-06-17</td>\n",
       "      <td>smart</td>\n",
       "    </tr>\n",
       "    <tr>\n",
       "      <td>3</td>\n",
       "      <td>1003</td>\n",
       "      <td>23</td>\n",
       "      <td>NaN</td>\n",
       "      <td>Москва</td>\n",
       "      <td>Белла</td>\n",
       "      <td>Белякова</td>\n",
       "      <td>2018-08-17</td>\n",
       "      <td>ultra</td>\n",
       "    </tr>\n",
       "    <tr>\n",
       "      <td>4</td>\n",
       "      <td>1004</td>\n",
       "      <td>68</td>\n",
       "      <td>NaN</td>\n",
       "      <td>Новокузнецк</td>\n",
       "      <td>Татьяна</td>\n",
       "      <td>Авдеенко</td>\n",
       "      <td>2018-05-14</td>\n",
       "      <td>ultra</td>\n",
       "    </tr>\n",
       "  </tbody>\n",
       "</table>\n",
       "</div>"
      ],
      "text/plain": [
       "   user_id  age churn_date         city first_name  last_name    reg_date  \\\n",
       "0     1000   52        NaN    Краснодар     Рафаил  Верещагин  2018-05-25   \n",
       "1     1001   41        NaN       Москва       Иван       Ежов  2018-11-01   \n",
       "2     1002   59        NaN  Стерлитамак    Евгений  Абрамович  2018-06-17   \n",
       "3     1003   23        NaN       Москва      Белла   Белякова  2018-08-17   \n",
       "4     1004   68        NaN  Новокузнецк    Татьяна   Авдеенко  2018-05-14   \n",
       "\n",
       "  tariff  \n",
       "0  ultra  \n",
       "1  smart  \n",
       "2  smart  \n",
       "3  ultra  \n",
       "4  ultra  "
      ]
     },
     "metadata": {},
     "output_type": "display_data"
    }
   ],
   "source": [
    "# Изучение общей информации\n",
    "show_info(users)"
   ]
  },
  {
   "cell_type": "markdown",
   "metadata": {},
   "source": [
    "462 пропущенных значения в столбце churn_date означают, что тариформ продолжают пользоваться. А 38 пользоватлей прекратили. Пропущенные значения заменим на последнюю дату выборки."
   ]
  },
  {
   "cell_type": "code",
   "execution_count": 179,
   "metadata": {},
   "outputs": [
    {
     "data": {
      "text/html": [
       "<div>\n",
       "<style scoped>\n",
       "    .dataframe tbody tr th:only-of-type {\n",
       "        vertical-align: middle;\n",
       "    }\n",
       "\n",
       "    .dataframe tbody tr th {\n",
       "        vertical-align: top;\n",
       "    }\n",
       "\n",
       "    .dataframe thead th {\n",
       "        text-align: right;\n",
       "    }\n",
       "</style>\n",
       "<table border=\"1\" class=\"dataframe\">\n",
       "  <thead>\n",
       "    <tr style=\"text-align: right;\">\n",
       "      <th></th>\n",
       "      <th>user_id</th>\n",
       "      <th>age</th>\n",
       "      <th>churn_date</th>\n",
       "      <th>city</th>\n",
       "      <th>first_name</th>\n",
       "      <th>last_name</th>\n",
       "      <th>reg_date</th>\n",
       "      <th>tariff</th>\n",
       "    </tr>\n",
       "  </thead>\n",
       "  <tbody>\n",
       "    <tr>\n",
       "      <td>0</td>\n",
       "      <td>1000</td>\n",
       "      <td>52</td>\n",
       "      <td>2018-12-31</td>\n",
       "      <td>Краснодар</td>\n",
       "      <td>Рафаил</td>\n",
       "      <td>Верещагин</td>\n",
       "      <td>2018-05-25</td>\n",
       "      <td>ultra</td>\n",
       "    </tr>\n",
       "    <tr>\n",
       "      <td>1</td>\n",
       "      <td>1001</td>\n",
       "      <td>41</td>\n",
       "      <td>2018-12-31</td>\n",
       "      <td>Москва</td>\n",
       "      <td>Иван</td>\n",
       "      <td>Ежов</td>\n",
       "      <td>2018-11-01</td>\n",
       "      <td>smart</td>\n",
       "    </tr>\n",
       "  </tbody>\n",
       "</table>\n",
       "</div>"
      ],
      "text/plain": [
       "   user_id  age  churn_date       city first_name  last_name    reg_date  \\\n",
       "0     1000   52  2018-12-31  Краснодар     Рафаил  Верещагин  2018-05-25   \n",
       "1     1001   41  2018-12-31     Москва       Иван       Ежов  2018-11-01   \n",
       "\n",
       "  tariff  \n",
       "0  ultra  \n",
       "1  smart  "
      ]
     },
     "execution_count": 179,
     "metadata": {},
     "output_type": "execute_result"
    }
   ],
   "source": [
    "users.loc[users['churn_date'].isna(), 'churn_date'] = '2018-12-31'\n",
    "users.head(2)"
   ]
  },
  {
   "cell_type": "code",
   "execution_count": 180,
   "metadata": {},
   "outputs": [
    {
     "name": "stdout",
     "output_type": "stream",
     "text": [
      "Уникальных пользователей: 500\n"
     ]
    }
   ],
   "source": [
    "print('Уникальных пользователей:', len(users['user_id'].unique()))"
   ]
  },
  {
   "cell_type": "markdown",
   "metadata": {},
   "source": [
    "*Вывод по таблице users:*\n",
    "\n",
    "- 500 значений (пользователей)\n",
    "- 462 пропущенных значения в столбце churn_date означают, что тариформ продолжают пользоваться. А 38 пользоватлей прекратили. Пропущенные значения заменили на последнюю дату выборки.\n",
    "- churn_date - можно преобразовать в формат даты\n",
    "- reg_date - можно преобразовать в формат даты\n",
    "- tariff - есть возможность сделать данные компактнее за счет вынесения наименования тарифов в отдельную таблицу или конвертирования в булев тип. Но не будем этого делать т.к. выборка невелика."
   ]
  },
  {
   "cell_type": "markdown",
   "metadata": {},
   "source": [
    "Таблица **calls** (информация о звонках):\n",
    "- id — уникальный номер звонка\n",
    "- call_date — дата звонка\n",
    "- duration — длительность звонка в минутах\n",
    "- user_id — идентификатор пользователя, сделавшего звонок\n"
   ]
  },
  {
   "cell_type": "code",
   "execution_count": 181,
   "metadata": {},
   "outputs": [
    {
     "name": "stdout",
     "output_type": "stream",
     "text": [
      "<class 'pandas.core.frame.DataFrame'>\n",
      "RangeIndex: 202607 entries, 0 to 202606\n",
      "Data columns (total 4 columns):\n",
      "id           202607 non-null object\n",
      "call_date    202607 non-null object\n",
      "duration     202607 non-null float64\n",
      "user_id      202607 non-null int64\n",
      "dtypes: float64(1), int64(1), object(2)\n",
      "memory usage: 6.2+ MB\n",
      "\n",
      "Наименования столбцов:\n",
      "Index(['id', 'call_date', 'duration', 'user_id'], dtype='object')\n",
      "\n",
      "Пропущенные значения\n",
      "id           0\n",
      "call_date    0\n",
      "duration     0\n",
      "user_id      0\n",
      "dtype: int64\n",
      "\n",
      "Дубликаты: 0\n"
     ]
    },
    {
     "data": {
      "text/html": [
       "<div>\n",
       "<style scoped>\n",
       "    .dataframe tbody tr th:only-of-type {\n",
       "        vertical-align: middle;\n",
       "    }\n",
       "\n",
       "    .dataframe tbody tr th {\n",
       "        vertical-align: top;\n",
       "    }\n",
       "\n",
       "    .dataframe thead th {\n",
       "        text-align: right;\n",
       "    }\n",
       "</style>\n",
       "<table border=\"1\" class=\"dataframe\">\n",
       "  <thead>\n",
       "    <tr style=\"text-align: right;\">\n",
       "      <th></th>\n",
       "      <th>id</th>\n",
       "      <th>call_date</th>\n",
       "      <th>duration</th>\n",
       "      <th>user_id</th>\n",
       "    </tr>\n",
       "  </thead>\n",
       "  <tbody>\n",
       "    <tr>\n",
       "      <td>0</td>\n",
       "      <td>1000_0</td>\n",
       "      <td>2018-07-25</td>\n",
       "      <td>0.00</td>\n",
       "      <td>1000</td>\n",
       "    </tr>\n",
       "    <tr>\n",
       "      <td>1</td>\n",
       "      <td>1000_1</td>\n",
       "      <td>2018-08-17</td>\n",
       "      <td>0.00</td>\n",
       "      <td>1000</td>\n",
       "    </tr>\n",
       "    <tr>\n",
       "      <td>2</td>\n",
       "      <td>1000_2</td>\n",
       "      <td>2018-06-11</td>\n",
       "      <td>2.85</td>\n",
       "      <td>1000</td>\n",
       "    </tr>\n",
       "    <tr>\n",
       "      <td>3</td>\n",
       "      <td>1000_3</td>\n",
       "      <td>2018-09-21</td>\n",
       "      <td>13.80</td>\n",
       "      <td>1000</td>\n",
       "    </tr>\n",
       "    <tr>\n",
       "      <td>4</td>\n",
       "      <td>1000_4</td>\n",
       "      <td>2018-12-15</td>\n",
       "      <td>5.18</td>\n",
       "      <td>1000</td>\n",
       "    </tr>\n",
       "  </tbody>\n",
       "</table>\n",
       "</div>"
      ],
      "text/plain": [
       "       id   call_date  duration  user_id\n",
       "0  1000_0  2018-07-25      0.00     1000\n",
       "1  1000_1  2018-08-17      0.00     1000\n",
       "2  1000_2  2018-06-11      2.85     1000\n",
       "3  1000_3  2018-09-21     13.80     1000\n",
       "4  1000_4  2018-12-15      5.18     1000"
      ]
     },
     "metadata": {},
     "output_type": "display_data"
    }
   ],
   "source": [
    "# Изучение общей информации\n",
    "show_info(calls)"
   ]
  },
  {
   "cell_type": "code",
   "execution_count": 182,
   "metadata": {},
   "outputs": [
    {
     "name": "stdout",
     "output_type": "stream",
     "text": [
      "Уникальных записей звонков: 202607\n",
      "Уникальных пользователей: 492\n",
      "Пропущенных звонков: 39613, что составляет: 19.6% от общего числа записей (202607)\n"
     ]
    }
   ],
   "source": [
    "total_calls = calls.shape[0]\n",
    "missed_calls = calls.query('duration == 0')['duration'].count()\n",
    "rate_missed_calls = missed_calls / total_calls\n",
    "\n",
    "print('Уникальных записей звонков:', len(calls['id'].unique()))\n",
    "print('Уникальных пользователей:', len(calls['user_id'].unique()))\n",
    "print('Пропущенных звонков: {:.0f}, что составляет: {:.1%} от общего числа записей ({:.0f})'\n",
    "      .format(missed_calls, rate_missed_calls, total_calls)\n",
    "     )"
   ]
  },
  {
   "cell_type": "markdown",
   "metadata": {},
   "source": [
    "*Вывод по таблице calls:*\n",
    "- 202067 записей о звонках\n",
    "- call_date можно преобразовать в тип дата\n",
    "- Пропущенных звонков: 39613, что составляет: 19.6% от общего числа записей (202607)\n",
    "- В выборку попали 492 пользователя. Позже узнаем обо всех ли у нас есть сведения в users?"
   ]
  },
  {
   "cell_type": "markdown",
   "metadata": {},
   "source": [
    "Таблица **messages** (информация о сообщениях):\n",
    "- id — уникальный номер сообщения\n",
    "- message_date — дата сообщения\n",
    "- user_id — идентификатор пользователя, отправившего сообщение"
   ]
  },
  {
   "cell_type": "code",
   "execution_count": 183,
   "metadata": {},
   "outputs": [
    {
     "name": "stdout",
     "output_type": "stream",
     "text": [
      "<class 'pandas.core.frame.DataFrame'>\n",
      "RangeIndex: 123036 entries, 0 to 123035\n",
      "Data columns (total 3 columns):\n",
      "id              123036 non-null object\n",
      "message_date    123036 non-null object\n",
      "user_id         123036 non-null int64\n",
      "dtypes: int64(1), object(2)\n",
      "memory usage: 2.8+ MB\n",
      "\n",
      "Наименования столбцов:\n",
      "Index(['id', 'message_date', 'user_id'], dtype='object')\n",
      "\n",
      "Пропущенные значения\n",
      "id              0\n",
      "message_date    0\n",
      "user_id         0\n",
      "dtype: int64\n",
      "\n",
      "Дубликаты: 0\n"
     ]
    },
    {
     "data": {
      "text/html": [
       "<div>\n",
       "<style scoped>\n",
       "    .dataframe tbody tr th:only-of-type {\n",
       "        vertical-align: middle;\n",
       "    }\n",
       "\n",
       "    .dataframe tbody tr th {\n",
       "        vertical-align: top;\n",
       "    }\n",
       "\n",
       "    .dataframe thead th {\n",
       "        text-align: right;\n",
       "    }\n",
       "</style>\n",
       "<table border=\"1\" class=\"dataframe\">\n",
       "  <thead>\n",
       "    <tr style=\"text-align: right;\">\n",
       "      <th></th>\n",
       "      <th>id</th>\n",
       "      <th>message_date</th>\n",
       "      <th>user_id</th>\n",
       "    </tr>\n",
       "  </thead>\n",
       "  <tbody>\n",
       "    <tr>\n",
       "      <td>0</td>\n",
       "      <td>1000_0</td>\n",
       "      <td>2018-06-27</td>\n",
       "      <td>1000</td>\n",
       "    </tr>\n",
       "    <tr>\n",
       "      <td>1</td>\n",
       "      <td>1000_1</td>\n",
       "      <td>2018-10-08</td>\n",
       "      <td>1000</td>\n",
       "    </tr>\n",
       "    <tr>\n",
       "      <td>2</td>\n",
       "      <td>1000_2</td>\n",
       "      <td>2018-08-04</td>\n",
       "      <td>1000</td>\n",
       "    </tr>\n",
       "    <tr>\n",
       "      <td>3</td>\n",
       "      <td>1000_3</td>\n",
       "      <td>2018-06-16</td>\n",
       "      <td>1000</td>\n",
       "    </tr>\n",
       "    <tr>\n",
       "      <td>4</td>\n",
       "      <td>1000_4</td>\n",
       "      <td>2018-12-05</td>\n",
       "      <td>1000</td>\n",
       "    </tr>\n",
       "  </tbody>\n",
       "</table>\n",
       "</div>"
      ],
      "text/plain": [
       "       id message_date  user_id\n",
       "0  1000_0   2018-06-27     1000\n",
       "1  1000_1   2018-10-08     1000\n",
       "2  1000_2   2018-08-04     1000\n",
       "3  1000_3   2018-06-16     1000\n",
       "4  1000_4   2018-12-05     1000"
      ]
     },
     "metadata": {},
     "output_type": "display_data"
    }
   ],
   "source": [
    "show_info(messages)"
   ]
  },
  {
   "cell_type": "code",
   "execution_count": 184,
   "metadata": {},
   "outputs": [
    {
     "name": "stdout",
     "output_type": "stream",
     "text": [
      "Уникальных пользователей: 426\n"
     ]
    }
   ],
   "source": [
    "print('Уникальных пользователей:', len(messages['user_id'].unique()))"
   ]
  },
  {
   "cell_type": "markdown",
   "metadata": {},
   "source": [
    "*Вывод по таблице messages:*\n",
    "- 123036 записей о сообщениях, которые совершили 426 пользоватлей\n",
    "- message_date можно преобразовать в тип дата"
   ]
  },
  {
   "cell_type": "markdown",
   "metadata": {},
   "source": [
    "Таблица **internet** (информация об интернет-сессиях):\n",
    "- id — уникальный номер сессии\n",
    "- mb_used — объём потраченного за сессию интернет-трафика (в мегабайтах)\n",
    "- session_date — дата интернет-сессии\n",
    "- user_id — идентификатор пользователя"
   ]
  },
  {
   "cell_type": "code",
   "execution_count": 185,
   "metadata": {},
   "outputs": [
    {
     "name": "stdout",
     "output_type": "stream",
     "text": [
      "<class 'pandas.core.frame.DataFrame'>\n",
      "RangeIndex: 149396 entries, 0 to 149395\n",
      "Data columns (total 5 columns):\n",
      "Unnamed: 0      149396 non-null int64\n",
      "id              149396 non-null object\n",
      "mb_used         149396 non-null float64\n",
      "session_date    149396 non-null object\n",
      "user_id         149396 non-null int64\n",
      "dtypes: float64(1), int64(2), object(2)\n",
      "memory usage: 5.7+ MB\n",
      "\n",
      "Наименования столбцов:\n",
      "Index(['Unnamed: 0', 'id', 'mb_used', 'session_date', 'user_id'], dtype='object')\n",
      "\n",
      "Пропущенные значения\n",
      "Unnamed: 0      0\n",
      "id              0\n",
      "mb_used         0\n",
      "session_date    0\n",
      "user_id         0\n",
      "dtype: int64\n",
      "\n",
      "Дубликаты: 0\n"
     ]
    },
    {
     "data": {
      "text/html": [
       "<div>\n",
       "<style scoped>\n",
       "    .dataframe tbody tr th:only-of-type {\n",
       "        vertical-align: middle;\n",
       "    }\n",
       "\n",
       "    .dataframe tbody tr th {\n",
       "        vertical-align: top;\n",
       "    }\n",
       "\n",
       "    .dataframe thead th {\n",
       "        text-align: right;\n",
       "    }\n",
       "</style>\n",
       "<table border=\"1\" class=\"dataframe\">\n",
       "  <thead>\n",
       "    <tr style=\"text-align: right;\">\n",
       "      <th></th>\n",
       "      <th>Unnamed: 0</th>\n",
       "      <th>id</th>\n",
       "      <th>mb_used</th>\n",
       "      <th>session_date</th>\n",
       "      <th>user_id</th>\n",
       "    </tr>\n",
       "  </thead>\n",
       "  <tbody>\n",
       "    <tr>\n",
       "      <td>0</td>\n",
       "      <td>0</td>\n",
       "      <td>1000_0</td>\n",
       "      <td>112.95</td>\n",
       "      <td>2018-11-25</td>\n",
       "      <td>1000</td>\n",
       "    </tr>\n",
       "    <tr>\n",
       "      <td>1</td>\n",
       "      <td>1</td>\n",
       "      <td>1000_1</td>\n",
       "      <td>1052.81</td>\n",
       "      <td>2018-09-07</td>\n",
       "      <td>1000</td>\n",
       "    </tr>\n",
       "    <tr>\n",
       "      <td>2</td>\n",
       "      <td>2</td>\n",
       "      <td>1000_2</td>\n",
       "      <td>1197.26</td>\n",
       "      <td>2018-06-25</td>\n",
       "      <td>1000</td>\n",
       "    </tr>\n",
       "    <tr>\n",
       "      <td>3</td>\n",
       "      <td>3</td>\n",
       "      <td>1000_3</td>\n",
       "      <td>550.27</td>\n",
       "      <td>2018-08-22</td>\n",
       "      <td>1000</td>\n",
       "    </tr>\n",
       "    <tr>\n",
       "      <td>4</td>\n",
       "      <td>4</td>\n",
       "      <td>1000_4</td>\n",
       "      <td>302.56</td>\n",
       "      <td>2018-09-24</td>\n",
       "      <td>1000</td>\n",
       "    </tr>\n",
       "  </tbody>\n",
       "</table>\n",
       "</div>"
      ],
      "text/plain": [
       "   Unnamed: 0      id  mb_used session_date  user_id\n",
       "0           0  1000_0   112.95   2018-11-25     1000\n",
       "1           1  1000_1  1052.81   2018-09-07     1000\n",
       "2           2  1000_2  1197.26   2018-06-25     1000\n",
       "3           3  1000_3   550.27   2018-08-22     1000\n",
       "4           4  1000_4   302.56   2018-09-24     1000"
      ]
     },
     "metadata": {},
     "output_type": "display_data"
    }
   ],
   "source": [
    "show_info(internet)"
   ]
  },
  {
   "cell_type": "markdown",
   "metadata": {},
   "source": [
    "Обнаружен лишний столбец \"Unnamed: 0\". Вероятнее всего это дубликат индекса и не одержит полезной информации.\n",
    "Догадку проверим посчитав уникальные значения."
   ]
  },
  {
   "cell_type": "code",
   "execution_count": 186,
   "metadata": {},
   "outputs": [
    {
     "name": "stdout",
     "output_type": "stream",
     "text": [
      "149396\n"
     ]
    }
   ],
   "source": [
    "print(len(internet['Unnamed: 0'].unique()))"
   ]
  },
  {
   "cell_type": "markdown",
   "metadata": {},
   "source": [
    "Столбец не несет нкакого смысла. Удаляем."
   ]
  },
  {
   "cell_type": "code",
   "execution_count": 187,
   "metadata": {},
   "outputs": [
    {
     "data": {
      "text/plain": [
       "Index(['id', 'mb_used', 'session_date', 'user_id'], dtype='object')"
      ]
     },
     "execution_count": 187,
     "metadata": {},
     "output_type": "execute_result"
    }
   ],
   "source": [
    "internet.drop(columns= 'Unnamed: 0', inplace=True)\n",
    "internet.columns"
   ]
  },
  {
   "cell_type": "code",
   "execution_count": 188,
   "metadata": {},
   "outputs": [
    {
     "name": "stdout",
     "output_type": "stream",
     "text": [
      "Уникальных пользователей: 497\n"
     ]
    }
   ],
   "source": [
    "print('Уникальных пользователей:', len(internet['user_id'].unique()))"
   ]
  },
  {
   "cell_type": "markdown",
   "metadata": {},
   "source": [
    "*Вывод по таблице internet:*\n",
    "- 149396 записей (сессий), совершенных 497 пользователями\n",
    "- session_date можно преобразовать в тип дата\n",
    "- удлаен лишний столбец 'Unnamed: 0'"
   ]
  },
  {
   "cell_type": "markdown",
   "metadata": {},
   "source": [
    "Таблица **tariffs** (информация о тарифах):\n",
    "-\ttariff_name — название тарифа\n",
    "-\trub_monthly_fee — ежемесячная абонентская плата в рублях\n",
    "-\tminutes_included — количество минут разговора в месяц, включённых в абонентскую плату\n",
    "-\tmessages_included — количество сообщений в месяц, включённых в абонентскую плату\n",
    "-\tmb_per_month_included — объём интернет-трафика, включённого в абонентскую плату (в мегабайтах)\n",
    "-\trub_per_minute — стоимость минуты разговора сверх тарифного пакета (например, если в тарифе 100 минут разговора в месяц, то со 101 минуты будет взиматься плата)\n",
    "-\trub_per_message — стоимость отправки сообщения сверх тарифного пакета\n",
    "-\trub_per_gb — стоимость дополнительного гигабайта интернет-трафика сверх тарифного пакета (1 гигабайт = 1024 мегабайта)"
   ]
  },
  {
   "cell_type": "code",
   "execution_count": 189,
   "metadata": {},
   "outputs": [
    {
     "name": "stdout",
     "output_type": "stream",
     "text": [
      "<class 'pandas.core.frame.DataFrame'>\n",
      "RangeIndex: 2 entries, 0 to 1\n",
      "Data columns (total 8 columns):\n",
      "messages_included        2 non-null int64\n",
      "mb_per_month_included    2 non-null int64\n",
      "minutes_included         2 non-null int64\n",
      "rub_monthly_fee          2 non-null int64\n",
      "rub_per_gb               2 non-null int64\n",
      "rub_per_message          2 non-null int64\n",
      "rub_per_minute           2 non-null int64\n",
      "tariff_name              2 non-null object\n",
      "dtypes: int64(7), object(1)\n",
      "memory usage: 256.0+ bytes\n",
      "\n",
      "Наименования столбцов:\n",
      "Index(['messages_included', 'mb_per_month_included', 'minutes_included',\n",
      "       'rub_monthly_fee', 'rub_per_gb', 'rub_per_message', 'rub_per_minute',\n",
      "       'tariff_name'],\n",
      "      dtype='object')\n",
      "\n",
      "Пропущенные значения\n",
      "messages_included        0\n",
      "mb_per_month_included    0\n",
      "minutes_included         0\n",
      "rub_monthly_fee          0\n",
      "rub_per_gb               0\n",
      "rub_per_message          0\n",
      "rub_per_minute           0\n",
      "tariff_name              0\n",
      "dtype: int64\n",
      "\n",
      "Дубликаты: 0\n"
     ]
    },
    {
     "data": {
      "text/html": [
       "<div>\n",
       "<style scoped>\n",
       "    .dataframe tbody tr th:only-of-type {\n",
       "        vertical-align: middle;\n",
       "    }\n",
       "\n",
       "    .dataframe tbody tr th {\n",
       "        vertical-align: top;\n",
       "    }\n",
       "\n",
       "    .dataframe thead th {\n",
       "        text-align: right;\n",
       "    }\n",
       "</style>\n",
       "<table border=\"1\" class=\"dataframe\">\n",
       "  <thead>\n",
       "    <tr style=\"text-align: right;\">\n",
       "      <th></th>\n",
       "      <th>messages_included</th>\n",
       "      <th>mb_per_month_included</th>\n",
       "      <th>minutes_included</th>\n",
       "      <th>rub_monthly_fee</th>\n",
       "      <th>rub_per_gb</th>\n",
       "      <th>rub_per_message</th>\n",
       "      <th>rub_per_minute</th>\n",
       "      <th>tariff_name</th>\n",
       "    </tr>\n",
       "  </thead>\n",
       "  <tbody>\n",
       "    <tr>\n",
       "      <td>0</td>\n",
       "      <td>50</td>\n",
       "      <td>15360</td>\n",
       "      <td>500</td>\n",
       "      <td>550</td>\n",
       "      <td>200</td>\n",
       "      <td>3</td>\n",
       "      <td>3</td>\n",
       "      <td>smart</td>\n",
       "    </tr>\n",
       "    <tr>\n",
       "      <td>1</td>\n",
       "      <td>1000</td>\n",
       "      <td>30720</td>\n",
       "      <td>3000</td>\n",
       "      <td>1950</td>\n",
       "      <td>150</td>\n",
       "      <td>1</td>\n",
       "      <td>1</td>\n",
       "      <td>ultra</td>\n",
       "    </tr>\n",
       "  </tbody>\n",
       "</table>\n",
       "</div>"
      ],
      "text/plain": [
       "   messages_included  mb_per_month_included  minutes_included  \\\n",
       "0                 50                  15360               500   \n",
       "1               1000                  30720              3000   \n",
       "\n",
       "   rub_monthly_fee  rub_per_gb  rub_per_message  rub_per_minute tariff_name  \n",
       "0              550         200                3               3       smart  \n",
       "1             1950         150                1               1       ultra  "
      ]
     },
     "metadata": {},
     "output_type": "display_data"
    }
   ],
   "source": [
    "show_info(tariffs)"
   ]
  },
  {
   "cell_type": "markdown",
   "metadata": {},
   "source": [
    "*Описание тарифов*\n",
    "\n",
    "Тариф **«Смарт»**\n",
    "1.\tЕжемесячная плата: 550 рублей\n",
    "2.\tВключено 500 минут разговора, 50 сообщений и 15 Гб интернет-трафика\n",
    "3.\tСтоимость услуг сверх тарифного пакета:\n",
    "        - минута разговора: 3 рубля\n",
    "        - сообщение: 3 рубля\n",
    "        - 1 Гб интернет-трафика: 200 рублей\n",
    "\n",
    "Тариф **«Ультра»**\n",
    "1.\tЕжемесячная плата: 1950 рублей\n",
    "2.\tВключено 3000 минут разговора, 1000 сообщений и 30 Гб интернет-трафика\n",
    "3.\tСтоимость услуг сверх тарифного пакета:\n",
    "        - минута разговора: 1 рубль\n",
    "        - сообщение: 1 рубль\n",
    "        - 1 Гб интернет-трафика: 150 рублей"
   ]
  },
  {
   "cell_type": "markdown",
   "metadata": {},
   "source": [
    "*Вывод по таблице tariffs:*\n",
    "\n",
    "Таблица, описывающая парметры двух тарифов. Замечаний по содержанию нет."
   ]
  },
  {
   "cell_type": "markdown",
   "metadata": {},
   "source": [
    "## Вывод по изучению общей информации:\n",
    "\n",
    "*Вывод по таблице users:*\n",
    "- 500 значений (пользователей)\n",
    "- 462 пропущенных значения в столбце churn_date означают, что тарифом продолжают пользоваться. А 38 пользоватлей прекратили.\n",
    "- churn_date - можно преобразовать в формат даты\n",
    "- reg_date - можно преобразовать в формат даты\n",
    "\n",
    "*Вывод по таблице calls:*\n",
    "- 202067 записей о звонках (в выборку попали 492 пользователя)\n",
    "- call_date можно преобразовать в тип дата\n",
    "- Пропущенных звонков: 39613, что составляет: 19.6% от общего числа записей (202607)\n",
    "\n",
    "*Вывод по таблице messages:*\n",
    "- 123036 записей о сообщениях, которые совершили 426 пользоватлей\n",
    "- message_date можно преобразовать в тип дата\n",
    "\n",
    "*Вывод по таблице internet:*\n",
    "- 149396 записей (сессий), совершенных 497 пользователями\n",
    "- session_date можно преобразовать в тип дата\n",
    "- удлаен лишний столбец 'Unnamed: 0'\n",
    "\n",
    "*Вывод по таблице tariffs:*\n",
    "Таблица, описывающая парметры двух тарифов. Замечаний по содержанию нет.\n",
    "\n",
    "На следующем этапе предстоит провести поиск ошибок, расчёты и слияние данных. Позже узнаем обо всех ли у нас есть сведения в users?"
   ]
  },
  {
   "cell_type": "markdown",
   "metadata": {},
   "source": [
    "<a id=\"preprocessing\"></a>\n",
    "### Шаг 2. Подготовка данных\n",
    "<a id=\"types\"></a>\n",
    "#### Шаг 2.1. Изменение типов данных"
   ]
  },
  {
   "cell_type": "markdown",
   "metadata": {},
   "source": [
    "Предстоит измнить тип данных у 5 столбцов. Чтобы сократить код, сделаем функцию"
   ]
  },
  {
   "cell_type": "code",
   "execution_count": 190,
   "metadata": {},
   "outputs": [],
   "source": [
    "def convert_to_date(column_with_text):\n",
    "    try:  \n",
    "        x_column = pd.to_datetime(column_with_text, format='%Y-%m-%dT%H:%M:%S') \n",
    "        print(column_with_text.name,'- Ok')\n",
    "        return x_column\n",
    "    except:\n",
    "        print(column_with_text.name,'- Есть неконвертируемые значения.')\n",
    "        return column_with_text"
   ]
  },
  {
   "cell_type": "markdown",
   "metadata": {},
   "source": [
    "Изменяем столбцы\n",
    "\n",
    "users:\n",
    "- churn_date - можно преобразовать в формат даты\n",
    "- reg_date - можно преобразовать в формат даты\n",
    "\n",
    "calls:\n",
    "- call_date можно преобразовать в тип дата\n",
    "\n",
    "massages:\n",
    "- message_date можно преобразовать в тип дата\n",
    "\n",
    "internet:\n",
    "- session_date можно преобразовать в тип дата"
   ]
  },
  {
   "cell_type": "code",
   "execution_count": 191,
   "metadata": {},
   "outputs": [
    {
     "name": "stdout",
     "output_type": "stream",
     "text": [
      "churn_date - Ok\n",
      "reg_date - Ok\n",
      "call_date - Ok\n",
      "message_date - Ok\n",
      "session_date - Ok\n"
     ]
    }
   ],
   "source": [
    "users['churn_date'] = convert_to_date(users['churn_date'])\n",
    "users['reg_date'] = convert_to_date(users['reg_date'])\n",
    "calls['call_date'] = convert_to_date(calls['call_date'])\n",
    "messages['message_date'] = convert_to_date(messages['message_date'])\n",
    "internet['session_date'] = convert_to_date(internet['session_date'])"
   ]
  },
  {
   "cell_type": "markdown",
   "metadata": {},
   "source": [
    "#### Вывод по изменению типов данных\n",
    "\n",
    "5 столбцов из разных таблиц переведены в тип data успешно."
   ]
  },
  {
   "cell_type": "markdown",
   "metadata": {},
   "source": [
    "<a id=\"errors\"></a>\n",
    "#### Шаг 2.2. Поиск и исправление ошибок"
   ]
  },
  {
   "cell_type": "markdown",
   "metadata": {},
   "source": [
    "Таблица users (информация о пользователях):\n",
    "\n",
    "- user_id — уникальный идентификатор пользователя\n",
    "- first_name — имя пользователя\n",
    "- last_name — фамилия пользователя\n",
    "- age — возраст пользователя (годы)\n",
    "- reg_date — дата подключения тарифа (день, месяц, год)\n",
    "- churn_date — дата прекращения пользования тарифом (если значение пропущено, то тариф ещё действовал на момент выгрузки данных)\n",
    "- city — город проживания пользователя\n",
    "- tariff — название тарифного плана\n",
    "\n",
    "Проверим:\n",
    "- first_name, last_name, city - не пустые строки\n",
    "- age - min, max\n",
    "- reg_date, churn_date - min, max\n",
    "- tariff - принимает только 2 значения"
   ]
  },
  {
   "cell_type": "code",
   "execution_count": 192,
   "metadata": {},
   "outputs": [
    {
     "data": {
      "text/html": [
       "<div>\n",
       "<style scoped>\n",
       "    .dataframe tbody tr th:only-of-type {\n",
       "        vertical-align: middle;\n",
       "    }\n",
       "\n",
       "    .dataframe tbody tr th {\n",
       "        vertical-align: top;\n",
       "    }\n",
       "\n",
       "    .dataframe thead th {\n",
       "        text-align: right;\n",
       "    }\n",
       "</style>\n",
       "<table border=\"1\" class=\"dataframe\">\n",
       "  <thead>\n",
       "    <tr style=\"text-align: right;\">\n",
       "      <th></th>\n",
       "      <th>user_id</th>\n",
       "      <th>age</th>\n",
       "      <th>churn_date</th>\n",
       "      <th>city</th>\n",
       "      <th>first_name</th>\n",
       "      <th>last_name</th>\n",
       "      <th>reg_date</th>\n",
       "      <th>tariff</th>\n",
       "    </tr>\n",
       "  </thead>\n",
       "  <tbody>\n",
       "  </tbody>\n",
       "</table>\n",
       "</div>"
      ],
      "text/plain": [
       "Empty DataFrame\n",
       "Columns: [user_id, age, churn_date, city, first_name, last_name, reg_date, tariff]\n",
       "Index: []"
      ]
     },
     "execution_count": 192,
     "metadata": {},
     "output_type": "execute_result"
    }
   ],
   "source": [
    "users.query('(first_name == \"\") or (last_name == \"\") or (city == \"\")')"
   ]
  },
  {
   "cell_type": "markdown",
   "metadata": {},
   "source": [
    "Пустых строк нет."
   ]
  },
  {
   "cell_type": "code",
   "execution_count": 193,
   "metadata": {},
   "outputs": [],
   "source": [
    "def min_max_show(column):\n",
    "    print(column.name, ': min =', column.min(), ', max =', column.max())"
   ]
  },
  {
   "cell_type": "code",
   "execution_count": 194,
   "metadata": {},
   "outputs": [
    {
     "name": "stdout",
     "output_type": "stream",
     "text": [
      "age : min = 18 , max = 75\n",
      "reg_date : min = 2018-01-01 00:00:00 , max = 2018-12-31 00:00:00\n",
      "churn_date : min = 2018-08-17 00:00:00 , max = 2018-12-31 00:00:00\n"
     ]
    }
   ],
   "source": [
    "min_max_show(users['age'])\n",
    "min_max_show(users['reg_date'])\n",
    "min_max_show(users['churn_date'])"
   ]
  },
  {
   "cell_type": "markdown",
   "metadata": {},
   "source": [
    "Данные в нормальных границах."
   ]
  },
  {
   "cell_type": "markdown",
   "metadata": {},
   "source": [
    "Таблица calls (информация о звонках):\n",
    "\n",
    "- id — уникальный номер звонка\n",
    "- call_date — дата звонка\n",
    "- duration — длительность звонка в минутах\n",
    "- user_id— идентификатор пользователя, сделавшего звонок\n",
    "\n",
    "Проверим:\n",
    "\n",
    "- call_date - min, max\n",
    "- duration - min, max и график"
   ]
  },
  {
   "cell_type": "code",
   "execution_count": 195,
   "metadata": {},
   "outputs": [
    {
     "name": "stdout",
     "output_type": "stream",
     "text": [
      "call_date : min = 2018-01-01 00:00:00 , max = 2018-12-31 00:00:00\n",
      "duration : min = 0.0 , max = 38.0\n"
     ]
    }
   ],
   "source": [
    "min_max_show(calls['call_date'])\n",
    "min_max_show(calls['duration'])"
   ]
  },
  {
   "cell_type": "markdown",
   "metadata": {},
   "source": [
    "Даты звонка в нормальном диапазоне.\n",
    "\n",
    "Есть звонки с нулевой длительностью. Мы их считаем пропущенными звонками. Это было выяснено на Шаге 1.\n",
    "\n",
    "Пропущенных звонков: 39613, что составляет: 19.6% от общего числа записей (202607)\n",
    "\n",
    "Посмотрим распределение на графике."
   ]
  },
  {
   "cell_type": "code",
   "execution_count": 196,
   "metadata": {},
   "outputs": [
    {
     "data": {
      "image/png": "[encoded data removed]",
      "text/plain": [
       "<Figure size 432x288 with 1 Axes>"
      ]
     },
     "metadata": {
      "needs_background": "light"
     },
     "output_type": "display_data"
    }
   ],
   "source": [
    "calls.plot(kind='hist', y='duration', histtype='step', range=(-1, 39),\n",
    "          bins=15, label='Время звонка', grid=True, legend=True)\n",
    "plt.show()"
   ]
  },
  {
   "cell_type": "markdown",
   "metadata": {},
   "source": [
    "Частота длительностей звонка выглядит логично."
   ]
  },
  {
   "cell_type": "markdown",
   "metadata": {},
   "source": [
    "Таблица messages (информация о сообщениях):\n",
    "\n",
    "- id — уникальный номер сообщения\n",
    "- message_date — дата сообщения\n",
    "- user_id — идентификатор пользователя, отправившего сообщение\n",
    "\n",
    "Проверим: message_date - min, max"
   ]
  },
  {
   "cell_type": "code",
   "execution_count": 197,
   "metadata": {},
   "outputs": [
    {
     "name": "stdout",
     "output_type": "stream",
     "text": [
      "message_date : min = 2018-01-02 00:00:00 , max = 2018-12-31 00:00:00\n"
     ]
    }
   ],
   "source": [
    "min_max_show(messages['message_date'])"
   ]
  },
  {
   "cell_type": "markdown",
   "metadata": {},
   "source": [
    "Информация о сообщениях в ожидаемый период  - 2018 год."
   ]
  },
  {
   "cell_type": "markdown",
   "metadata": {},
   "source": [
    "Таблица **internet** (информация об интернет-сессиях):\n",
    "- id — уникальный номер сессии\n",
    "- mb_used — объём потраченного за сессию интернет-трафика (в мегабайтах)\n",
    "- session_date — дата интернет-сессии\n",
    "- user_id — идентификатор пользователя\n",
    "\n",
    "Проверим:\n",
    "- mb_used — min, max и график\n",
    "- session_date — min, max"
   ]
  },
  {
   "cell_type": "code",
   "execution_count": 198,
   "metadata": {},
   "outputs": [
    {
     "name": "stdout",
     "output_type": "stream",
     "text": [
      "session_date : min = 2018-01-01 00:00:00 , max = 2018-12-31 00:00:00\n",
      "mb_used : min = 0.0 , max = 1724.83\n"
     ]
    }
   ],
   "source": [
    "min_max_show(internet['session_date'])\n",
    "min_max_show(internet['mb_used'])"
   ]
  },
  {
   "cell_type": "markdown",
   "metadata": {},
   "source": [
    "Даты сессий в ожидаемый период.\n",
    "\n",
    "Есть сессии с 0-м трафиком. Посмотрим графически."
   ]
  },
  {
   "cell_type": "code",
   "execution_count": 199,
   "metadata": {},
   "outputs": [
    {
     "data": {
      "image/png": "[encoded data removed]",
      "text/plain": [
       "<Figure size 432x288 with 1 Axes>"
      ]
     },
     "metadata": {
      "needs_background": "light"
     },
     "output_type": "display_data"
    }
   ],
   "source": [
    "internet.plot(kind='hist', y='mb_used', histtype='step', range=(-1, 1730),\n",
    "          bins=30, label='Трафик сессии', grid=True, legend=True)\n",
    "plt.show()"
   ]
  },
  {
   "cell_type": "markdown",
   "metadata": {},
   "source": [
    "Вид графика логичен."
   ]
  },
  {
   "cell_type": "code",
   "execution_count": 200,
   "metadata": {},
   "outputs": [
    {
     "name": "stdout",
     "output_type": "stream",
     "text": [
      "Нашлось 19598 нулевых интернет-сессий,\n",
      "что составляет 13.12% от общего числа записей 149396\n"
     ]
    }
   ],
   "source": [
    "internet_total = internet.shape[0]\n",
    "internet_zero_sessions = internet.query('mb_used == 0')['mb_used'].count()\n",
    "print('Нашлось', internet_zero_sessions, 'нулевых интернет-сессий,')\n",
    "print('что составляет {:.2%} от общего числа записей {:.0f}'.format(internet_zero_sessions/internet_total, internet_total))"
   ]
  },
  {
   "cell_type": "markdown",
   "metadata": {},
   "source": [
    "Таблицу **tarriffs** уже проверили."
   ]
  },
  {
   "cell_type": "markdown",
   "metadata": {},
   "source": [
    "А теперь проверим, насколько соответствуют у нас данные о польователях и данные о всех потребляемых услугах. Для этого проверим входят ли все user_id из таблиц calls, messages и internet в таблицу users.\n",
    "\n",
    "Данных в таблице пользователей может быть больше (не все воспольовались услугами), но не меньше (данные об услугах есть, но нет информации о пользователе). "
   ]
  },
  {
   "cell_type": "code",
   "execution_count": 201,
   "metadata": {},
   "outputs": [
    {
     "name": "stdout",
     "output_type": "stream",
     "text": [
      "Все user_id в таблице calls найдены.\n",
      "Все user_id в таблице messages найдены.\n",
      "Все user_id в таблице internet найдены.\n"
     ]
    }
   ],
   "source": [
    "calls_user_ids = calls['user_id'].unique()\n",
    "messages_user_ids = messages['user_id'].unique()\n",
    "internet_user_ids = internet['user_id'].unique()\n",
    "\n",
    "def check_user_ids(id_list, list_name):\n",
    "    c = 0\n",
    "    for id in id_list:\n",
    "        if id not in users['user_id'].values:\n",
    "            c += 1\n",
    "    if c > 0:\n",
    "        print('не хватает данных о {:.0f} пользователях в таблице:'.format(c), list_name)\n",
    "    else:\n",
    "        print('Все user_id в таблице', list_name, 'найдены.')\n",
    "    return\n",
    "\n",
    "check_user_ids(calls_user_ids,'calls')\n",
    "check_user_ids(messages_user_ids,'messages')\n",
    "check_user_ids(internet_user_ids,'internet')"
   ]
  },
  {
   "cell_type": "markdown",
   "metadata": {},
   "source": [
    "Убедились, что у нас есть данные о всех пользователях."
   ]
  },
  {
   "cell_type": "markdown",
   "metadata": {},
   "source": [
    "#### Вывод\n",
    "\n",
    "Из прблем в данных нашлись следующие:\n",
    "\n",
    "Пропущенных звонков: 39613, что составляет: 19.6% от общего числа записей (202607)\n",
    "\n",
    "Нашлось 19598 нулевых интернет-сессий, что составляет 13.12% от общего числа записей 149396\n",
    "\n",
    "Эту информацию нельзя назвать некорректной. Оставляем как есть."
   ]
  },
  {
   "cell_type": "markdown",
   "metadata": {},
   "source": [
    "<a id=\"calls\"></a>\n",
    "#### Шаг 2.3. Расчёт количества сделанных звонков и израсходованных минут разговора по месяцам"
   ]
  },
  {
   "cell_type": "markdown",
   "metadata": {},
   "source": [
    "Добавим в таблицу *calls* столбец month который будет содержать месяц звонка. "
   ]
  },
  {
   "cell_type": "code",
   "execution_count": 202,
   "metadata": {},
   "outputs": [
    {
     "data": {
      "text/html": [
       "<div>\n",
       "<style scoped>\n",
       "    .dataframe tbody tr th:only-of-type {\n",
       "        vertical-align: middle;\n",
       "    }\n",
       "\n",
       "    .dataframe tbody tr th {\n",
       "        vertical-align: top;\n",
       "    }\n",
       "\n",
       "    .dataframe thead th {\n",
       "        text-align: right;\n",
       "    }\n",
       "</style>\n",
       "<table border=\"1\" class=\"dataframe\">\n",
       "  <thead>\n",
       "    <tr style=\"text-align: right;\">\n",
       "      <th></th>\n",
       "      <th>calls_count</th>\n",
       "      <th>duration</th>\n",
       "    </tr>\n",
       "    <tr>\n",
       "      <th>month</th>\n",
       "      <th></th>\n",
       "      <th></th>\n",
       "    </tr>\n",
       "  </thead>\n",
       "  <tbody>\n",
       "    <tr>\n",
       "      <td>1</td>\n",
       "      <td>1476</td>\n",
       "      <td>10206.44</td>\n",
       "    </tr>\n",
       "    <tr>\n",
       "      <td>2</td>\n",
       "      <td>3328</td>\n",
       "      <td>23145.58</td>\n",
       "    </tr>\n",
       "    <tr>\n",
       "      <td>3</td>\n",
       "      <td>6687</td>\n",
       "      <td>45433.85</td>\n",
       "    </tr>\n",
       "    <tr>\n",
       "      <td>4</td>\n",
       "      <td>9272</td>\n",
       "      <td>62530.92</td>\n",
       "    </tr>\n",
       "    <tr>\n",
       "      <td>5</td>\n",
       "      <td>12647</td>\n",
       "      <td>83770.77</td>\n",
       "    </tr>\n",
       "    <tr>\n",
       "      <td>6</td>\n",
       "      <td>14716</td>\n",
       "      <td>99249.71</td>\n",
       "    </tr>\n",
       "    <tr>\n",
       "      <td>7</td>\n",
       "      <td>18298</td>\n",
       "      <td>124373.23</td>\n",
       "    </tr>\n",
       "    <tr>\n",
       "      <td>8</td>\n",
       "      <td>21488</td>\n",
       "      <td>145071.63</td>\n",
       "    </tr>\n",
       "    <tr>\n",
       "      <td>9</td>\n",
       "      <td>24061</td>\n",
       "      <td>163723.16</td>\n",
       "    </tr>\n",
       "    <tr>\n",
       "      <td>10</td>\n",
       "      <td>27146</td>\n",
       "      <td>183068.38</td>\n",
       "    </tr>\n",
       "    <tr>\n",
       "      <td>11</td>\n",
       "      <td>29501</td>\n",
       "      <td>198206.23</td>\n",
       "    </tr>\n",
       "    <tr>\n",
       "      <td>12</td>\n",
       "      <td>33987</td>\n",
       "      <td>230010.14</td>\n",
       "    </tr>\n",
       "  </tbody>\n",
       "</table>\n",
       "</div>"
      ],
      "text/plain": [
       "       calls_count   duration\n",
       "month                        \n",
       "1             1476   10206.44\n",
       "2             3328   23145.58\n",
       "3             6687   45433.85\n",
       "4             9272   62530.92\n",
       "5            12647   83770.77\n",
       "6            14716   99249.71\n",
       "7            18298  124373.23\n",
       "8            21488  145071.63\n",
       "9            24061  163723.16\n",
       "10           27146  183068.38\n",
       "11           29501  198206.23\n",
       "12           33987  230010.14"
      ]
     },
     "execution_count": 202,
     "metadata": {},
     "output_type": "execute_result"
    },
    {
     "data": {
      "image/png": "[encoded data removed]",
      "text/plain": [
       "<Figure size 432x288 with 1 Axes>"
      ]
     },
     "metadata": {
      "needs_background": "light"
     },
     "output_type": "display_data"
    },
    {
     "data": {
      "image/png": "[encoded data removed]",
      "text/plain": [
       "<Figure size 432x288 with 1 Axes>"
      ]
     },
     "metadata": {
      "needs_background": "light"
     },
     "output_type": "display_data"
    }
   ],
   "source": [
    "calls['month'] = calls['call_date'].dt.month\n",
    "\n",
    "calls_stat = pd.DataFrame(calls.groupby('month').agg({'id':'count', 'duration':'sum'}))\n",
    "# Переименуем столбец id в calls_count для наглядности\n",
    "calls_stat.set_axis(['calls_count','duration'], axis = 'columns', inplace = True)\n",
    "\n",
    "calls_stat.plot(kind='line', y='duration', label='Длительность звонков', grid=True, legend=True)\n",
    "calls_stat.plot(kind='line', y='calls_count', label='Кол-во звонков', grid=True, legend=True)\n",
    "\n",
    "calls_stat"
   ]
  },
  {
   "cell_type": "markdown",
   "metadata": {},
   "source": [
    "Довольно интересно, что количество и продолжительность звонков практически линейнорастут с каждым месяцем.\n",
    "Как будьто мы наблюдаем развитие компании или новой линейки тарифных планов."
   ]
  },
  {
   "cell_type": "markdown",
   "metadata": {},
   "source": [
    "<a id=\"messages\"></a>\n",
    "#### Шаг 2.4. Расчёт количества отправленных сообщений по месяцам"
   ]
  },
  {
   "cell_type": "markdown",
   "metadata": {},
   "source": [
    "Проделаем это аналогично длительности разговоров."
   ]
  },
  {
   "cell_type": "code",
   "execution_count": 203,
   "metadata": {},
   "outputs": [
    {
     "data": {
      "text/html": [
       "<div>\n",
       "<style scoped>\n",
       "    .dataframe tbody tr th:only-of-type {\n",
       "        vertical-align: middle;\n",
       "    }\n",
       "\n",
       "    .dataframe tbody tr th {\n",
       "        vertical-align: top;\n",
       "    }\n",
       "\n",
       "    .dataframe thead th {\n",
       "        text-align: right;\n",
       "    }\n",
       "</style>\n",
       "<table border=\"1\" class=\"dataframe\">\n",
       "  <thead>\n",
       "    <tr style=\"text-align: right;\">\n",
       "      <th></th>\n",
       "      <th>messages_count</th>\n",
       "    </tr>\n",
       "    <tr>\n",
       "      <th>month</th>\n",
       "      <th></th>\n",
       "    </tr>\n",
       "  </thead>\n",
       "  <tbody>\n",
       "    <tr>\n",
       "      <td>1</td>\n",
       "      <td>924</td>\n",
       "    </tr>\n",
       "    <tr>\n",
       "      <td>2</td>\n",
       "      <td>1924</td>\n",
       "    </tr>\n",
       "    <tr>\n",
       "      <td>3</td>\n",
       "      <td>3648</td>\n",
       "    </tr>\n",
       "    <tr>\n",
       "      <td>4</td>\n",
       "      <td>5179</td>\n",
       "    </tr>\n",
       "    <tr>\n",
       "      <td>5</td>\n",
       "      <td>7298</td>\n",
       "    </tr>\n",
       "    <tr>\n",
       "      <td>6</td>\n",
       "      <td>8983</td>\n",
       "    </tr>\n",
       "    <tr>\n",
       "      <td>7</td>\n",
       "      <td>11320</td>\n",
       "    </tr>\n",
       "    <tr>\n",
       "      <td>8</td>\n",
       "      <td>13088</td>\n",
       "    </tr>\n",
       "    <tr>\n",
       "      <td>9</td>\n",
       "      <td>14759</td>\n",
       "    </tr>\n",
       "    <tr>\n",
       "      <td>10</td>\n",
       "      <td>17114</td>\n",
       "    </tr>\n",
       "    <tr>\n",
       "      <td>11</td>\n",
       "      <td>18244</td>\n",
       "    </tr>\n",
       "    <tr>\n",
       "      <td>12</td>\n",
       "      <td>20555</td>\n",
       "    </tr>\n",
       "  </tbody>\n",
       "</table>\n",
       "</div>"
      ],
      "text/plain": [
       "       messages_count\n",
       "month                \n",
       "1                 924\n",
       "2                1924\n",
       "3                3648\n",
       "4                5179\n",
       "5                7298\n",
       "6                8983\n",
       "7               11320\n",
       "8               13088\n",
       "9               14759\n",
       "10              17114\n",
       "11              18244\n",
       "12              20555"
      ]
     },
     "execution_count": 203,
     "metadata": {},
     "output_type": "execute_result"
    },
    {
     "data": {
      "image/png": "[encoded data removed]",
      "text/plain": [
       "<Figure size 432x288 with 1 Axes>"
      ]
     },
     "metadata": {
      "needs_background": "light"
     },
     "output_type": "display_data"
    }
   ],
   "source": [
    "messages['month'] = messages['message_date'].dt.month\n",
    "\n",
    "messages_stat = pd.DataFrame(messages.groupby('month').agg({'id':'count'}))\n",
    "# Переименуем столбец id в messages_count для наглядности\n",
    "messages_stat.set_axis(['messages_count'], axis = 'columns', inplace = True)\n",
    "\n",
    "messages_stat.plot(kind='line', y='messages_count', label='Кол-во сообщений', grid=True, legend=True)\n",
    "\n",
    "messages_stat"
   ]
  },
  {
   "cell_type": "markdown",
   "metadata": {},
   "source": [
    "<a id=\"internet\"></a>\n",
    "#### Шаг 2.5. Расчёт объема израсходованного интернет-трафика по месяцам"
   ]
  },
  {
   "cell_type": "markdown",
   "metadata": {},
   "source": [
    "И снова."
   ]
  },
  {
   "cell_type": "code",
   "execution_count": 204,
   "metadata": {},
   "outputs": [
    {
     "data": {
      "text/html": [
       "<div>\n",
       "<style scoped>\n",
       "    .dataframe tbody tr th:only-of-type {\n",
       "        vertical-align: middle;\n",
       "    }\n",
       "\n",
       "    .dataframe tbody tr th {\n",
       "        vertical-align: top;\n",
       "    }\n",
       "\n",
       "    .dataframe thead th {\n",
       "        text-align: right;\n",
       "    }\n",
       "</style>\n",
       "<table border=\"1\" class=\"dataframe\">\n",
       "  <thead>\n",
       "    <tr style=\"text-align: right;\">\n",
       "      <th></th>\n",
       "      <th>sessions_count</th>\n",
       "      <th>mb_used</th>\n",
       "    </tr>\n",
       "    <tr>\n",
       "      <th>month</th>\n",
       "      <th></th>\n",
       "      <th></th>\n",
       "    </tr>\n",
       "  </thead>\n",
       "  <tbody>\n",
       "    <tr>\n",
       "      <td>1</td>\n",
       "      <td>1117</td>\n",
       "      <td>407732.53</td>\n",
       "    </tr>\n",
       "    <tr>\n",
       "      <td>2</td>\n",
       "      <td>2641</td>\n",
       "      <td>955251.65</td>\n",
       "    </tr>\n",
       "    <tr>\n",
       "      <td>3</td>\n",
       "      <td>4885</td>\n",
       "      <td>1811835.61</td>\n",
       "    </tr>\n",
       "    <tr>\n",
       "      <td>4</td>\n",
       "      <td>6511</td>\n",
       "      <td>2433311.62</td>\n",
       "    </tr>\n",
       "    <tr>\n",
       "      <td>5</td>\n",
       "      <td>9408</td>\n",
       "      <td>3525862.24</td>\n",
       "    </tr>\n",
       "    <tr>\n",
       "      <td>6</td>\n",
       "      <td>11057</td>\n",
       "      <td>4180017.17</td>\n",
       "    </tr>\n",
       "    <tr>\n",
       "      <td>7</td>\n",
       "      <td>13548</td>\n",
       "      <td>5029478.75</td>\n",
       "    </tr>\n",
       "    <tr>\n",
       "      <td>8</td>\n",
       "      <td>16092</td>\n",
       "      <td>5998157.07</td>\n",
       "    </tr>\n",
       "    <tr>\n",
       "      <td>9</td>\n",
       "      <td>17512</td>\n",
       "      <td>6447422.36</td>\n",
       "    </tr>\n",
       "    <tr>\n",
       "      <td>10</td>\n",
       "      <td>20009</td>\n",
       "      <td>7392170.62</td>\n",
       "    </tr>\n",
       "    <tr>\n",
       "      <td>11</td>\n",
       "      <td>21817</td>\n",
       "      <td>7990473.01</td>\n",
       "    </tr>\n",
       "    <tr>\n",
       "      <td>12</td>\n",
       "      <td>24799</td>\n",
       "      <td>9133555.10</td>\n",
       "    </tr>\n",
       "  </tbody>\n",
       "</table>\n",
       "</div>"
      ],
      "text/plain": [
       "       sessions_count     mb_used\n",
       "month                            \n",
       "1                1117   407732.53\n",
       "2                2641   955251.65\n",
       "3                4885  1811835.61\n",
       "4                6511  2433311.62\n",
       "5                9408  3525862.24\n",
       "6               11057  4180017.17\n",
       "7               13548  5029478.75\n",
       "8               16092  5998157.07\n",
       "9               17512  6447422.36\n",
       "10              20009  7392170.62\n",
       "11              21817  7990473.01\n",
       "12              24799  9133555.10"
      ]
     },
     "execution_count": 204,
     "metadata": {},
     "output_type": "execute_result"
    },
    {
     "data": {
      "image/png": "[encoded data removed]",
      "text/plain": [
       "<Figure size 432x288 with 1 Axes>"
      ]
     },
     "metadata": {
      "needs_background": "light"
     },
     "output_type": "display_data"
    },
    {
     "data": {
      "image/png": "[encoded data removed]",
      "text/plain": [
       "<Figure size 432x288 with 1 Axes>"
      ]
     },
     "metadata": {
      "needs_background": "light"
     },
     "output_type": "display_data"
    }
   ],
   "source": [
    "internet['month'] = internet['session_date'].dt.month\n",
    "\n",
    "internet_stat = pd.DataFrame(internet.groupby('month').agg({'id':'count','mb_used':'sum'}))\n",
    "# Переименуем столбец id в messages_count для наглядности\n",
    "internet_stat.set_axis(['sessions_count', 'mb_used'], axis = 'columns', inplace = True)\n",
    "\n",
    "internet_stat.plot(kind='line', y='sessions_count', label='Кол-во сессий', grid=True, legend=True)\n",
    "internet_stat.plot(kind='line', y='mb_used', label='Суммарный траффик', grid=True, legend=True)\n",
    "\n",
    "internet_stat"
   ]
  },
  {
   "cell_type": "markdown",
   "metadata": {},
   "source": [
    "<a id=\"income\"></a>\n",
    "#### Шаг 2.6. Расчёт помесячной выручки с каждого пользователя"
   ]
  },
  {
   "cell_type": "markdown",
   "metadata": {},
   "source": [
    "Чтобы понять помесячную выручку нужно посчитать объем услуг (звонки, сообщения, интернет) потребляемый, каждым пользователем и тарифицировать в соответствии с тарифнм планом.\n",
    "\n",
    "Создадим новую таблицу объединяющую нужные данные. (Мы уже убедились, что у нас есть данные о всех пользователях, поэтому не должно быть проблем со слиянием)."
   ]
  },
  {
   "cell_type": "code",
   "execution_count": 205,
   "metadata": {},
   "outputs": [],
   "source": [
    "# Во главе у нас полный список пользователей\n",
    "# Т.к. мы должны посчитать тарификацию для всех пользователей, дае если они не пользовались услугами\n",
    "tariff_stat = pd.DataFrame([])\n",
    "tariff_stat = users[['user_id', 'tariff', 'reg_date','churn_date']]"
   ]
  },
  {
   "cell_type": "code",
   "execution_count": 206,
   "metadata": {},
   "outputs": [
    {
     "data": {
      "text/html": [
       "<div>\n",
       "<style scoped>\n",
       "    .dataframe tbody tr th:only-of-type {\n",
       "        vertical-align: middle;\n",
       "    }\n",
       "\n",
       "    .dataframe tbody tr th {\n",
       "        vertical-align: top;\n",
       "    }\n",
       "\n",
       "    .dataframe thead th {\n",
       "        text-align: right;\n",
       "    }\n",
       "</style>\n",
       "<table border=\"1\" class=\"dataframe\">\n",
       "  <thead>\n",
       "    <tr style=\"text-align: right;\">\n",
       "      <th></th>\n",
       "      <th>user_id</th>\n",
       "      <th>tariff</th>\n",
       "      <th>reg_date</th>\n",
       "      <th>churn_date</th>\n",
       "      <th>month_begin</th>\n",
       "      <th>month_end</th>\n",
       "    </tr>\n",
       "  </thead>\n",
       "  <tbody>\n",
       "    <tr>\n",
       "      <td>0</td>\n",
       "      <td>1000</td>\n",
       "      <td>ultra</td>\n",
       "      <td>2018-05-25</td>\n",
       "      <td>2018-12-31</td>\n",
       "      <td>5</td>\n",
       "      <td>12</td>\n",
       "    </tr>\n",
       "    <tr>\n",
       "      <td>1</td>\n",
       "      <td>1001</td>\n",
       "      <td>smart</td>\n",
       "      <td>2018-11-01</td>\n",
       "      <td>2018-12-31</td>\n",
       "      <td>11</td>\n",
       "      <td>12</td>\n",
       "    </tr>\n",
       "    <tr>\n",
       "      <td>2</td>\n",
       "      <td>1002</td>\n",
       "      <td>smart</td>\n",
       "      <td>2018-06-17</td>\n",
       "      <td>2018-12-31</td>\n",
       "      <td>6</td>\n",
       "      <td>12</td>\n",
       "    </tr>\n",
       "    <tr>\n",
       "      <td>3</td>\n",
       "      <td>1003</td>\n",
       "      <td>ultra</td>\n",
       "      <td>2018-08-17</td>\n",
       "      <td>2018-12-31</td>\n",
       "      <td>8</td>\n",
       "      <td>12</td>\n",
       "    </tr>\n",
       "    <tr>\n",
       "      <td>4</td>\n",
       "      <td>1004</td>\n",
       "      <td>ultra</td>\n",
       "      <td>2018-05-14</td>\n",
       "      <td>2018-12-31</td>\n",
       "      <td>5</td>\n",
       "      <td>12</td>\n",
       "    </tr>\n",
       "  </tbody>\n",
       "</table>\n",
       "</div>"
      ],
      "text/plain": [
       "   user_id tariff   reg_date churn_date  month_begin  month_end\n",
       "0     1000  ultra 2018-05-25 2018-12-31            5         12\n",
       "1     1001  smart 2018-11-01 2018-12-31           11         12\n",
       "2     1002  smart 2018-06-17 2018-12-31            6         12\n",
       "3     1003  ultra 2018-08-17 2018-12-31            8         12\n",
       "4     1004  ultra 2018-05-14 2018-12-31            5         12"
      ]
     },
     "execution_count": 206,
     "metadata": {},
     "output_type": "execute_result"
    }
   ],
   "source": [
    "# Проставим начальный и конечны месяц тарифа\n",
    "tariff_stat.loc[:,'month_begin'] = tariff_stat['reg_date'].dt.month\n",
    "tariff_stat.loc[:,'month_end'] = tariff_stat['churn_date'].dt.month\n",
    "tariff_stat.head(5)"
   ]
  },
  {
   "cell_type": "markdown",
   "metadata": {},
   "source": [
    "Сделаем заготовку на основе известной информации о тарифах. Впишем помесячную оплату для каждого месяца.\n",
    "\n",
    "Не забудем учесть дату подключения и отключения тарифа."
   ]
  },
  {
   "cell_type": "code",
   "execution_count": 207,
   "metadata": {},
   "outputs": [
    {
     "data": {
      "text/html": [
       "<div>\n",
       "<style scoped>\n",
       "    .dataframe tbody tr th:only-of-type {\n",
       "        vertical-align: middle;\n",
       "    }\n",
       "\n",
       "    .dataframe tbody tr th {\n",
       "        vertical-align: top;\n",
       "    }\n",
       "\n",
       "    .dataframe thead th {\n",
       "        text-align: right;\n",
       "    }\n",
       "</style>\n",
       "<table border=\"1\" class=\"dataframe\">\n",
       "  <thead>\n",
       "    <tr style=\"text-align: right;\">\n",
       "      <th></th>\n",
       "      <th>user_id</th>\n",
       "      <th>tariff</th>\n",
       "      <th>reg_date</th>\n",
       "      <th>churn_date</th>\n",
       "      <th>month_begin</th>\n",
       "      <th>month_end</th>\n",
       "      <th>1</th>\n",
       "      <th>2</th>\n",
       "      <th>3</th>\n",
       "      <th>4</th>\n",
       "      <th>5</th>\n",
       "      <th>6</th>\n",
       "      <th>7</th>\n",
       "      <th>8</th>\n",
       "      <th>9</th>\n",
       "      <th>10</th>\n",
       "      <th>11</th>\n",
       "      <th>12</th>\n",
       "    </tr>\n",
       "  </thead>\n",
       "  <tbody>\n",
       "    <tr>\n",
       "      <td>0</td>\n",
       "      <td>1000</td>\n",
       "      <td>ultra</td>\n",
       "      <td>2018-05-25</td>\n",
       "      <td>2018-12-31</td>\n",
       "      <td>5</td>\n",
       "      <td>12</td>\n",
       "      <td>0</td>\n",
       "      <td>0</td>\n",
       "      <td>0</td>\n",
       "      <td>0</td>\n",
       "      <td>0</td>\n",
       "      <td>0</td>\n",
       "      <td>0</td>\n",
       "      <td>0</td>\n",
       "      <td>0</td>\n",
       "      <td>0</td>\n",
       "      <td>0</td>\n",
       "      <td>0</td>\n",
       "    </tr>\n",
       "    <tr>\n",
       "      <td>1</td>\n",
       "      <td>1001</td>\n",
       "      <td>smart</td>\n",
       "      <td>2018-11-01</td>\n",
       "      <td>2018-12-31</td>\n",
       "      <td>11</td>\n",
       "      <td>12</td>\n",
       "      <td>0</td>\n",
       "      <td>0</td>\n",
       "      <td>0</td>\n",
       "      <td>0</td>\n",
       "      <td>0</td>\n",
       "      <td>0</td>\n",
       "      <td>0</td>\n",
       "      <td>0</td>\n",
       "      <td>0</td>\n",
       "      <td>0</td>\n",
       "      <td>0</td>\n",
       "      <td>0</td>\n",
       "    </tr>\n",
       "    <tr>\n",
       "      <td>2</td>\n",
       "      <td>1002</td>\n",
       "      <td>smart</td>\n",
       "      <td>2018-06-17</td>\n",
       "      <td>2018-12-31</td>\n",
       "      <td>6</td>\n",
       "      <td>12</td>\n",
       "      <td>0</td>\n",
       "      <td>0</td>\n",
       "      <td>0</td>\n",
       "      <td>0</td>\n",
       "      <td>0</td>\n",
       "      <td>0</td>\n",
       "      <td>0</td>\n",
       "      <td>0</td>\n",
       "      <td>0</td>\n",
       "      <td>0</td>\n",
       "      <td>0</td>\n",
       "      <td>0</td>\n",
       "    </tr>\n",
       "    <tr>\n",
       "      <td>3</td>\n",
       "      <td>1003</td>\n",
       "      <td>ultra</td>\n",
       "      <td>2018-08-17</td>\n",
       "      <td>2018-12-31</td>\n",
       "      <td>8</td>\n",
       "      <td>12</td>\n",
       "      <td>0</td>\n",
       "      <td>0</td>\n",
       "      <td>0</td>\n",
       "      <td>0</td>\n",
       "      <td>0</td>\n",
       "      <td>0</td>\n",
       "      <td>0</td>\n",
       "      <td>0</td>\n",
       "      <td>0</td>\n",
       "      <td>0</td>\n",
       "      <td>0</td>\n",
       "      <td>0</td>\n",
       "    </tr>\n",
       "    <tr>\n",
       "      <td>4</td>\n",
       "      <td>1004</td>\n",
       "      <td>ultra</td>\n",
       "      <td>2018-05-14</td>\n",
       "      <td>2018-12-31</td>\n",
       "      <td>5</td>\n",
       "      <td>12</td>\n",
       "      <td>0</td>\n",
       "      <td>0</td>\n",
       "      <td>0</td>\n",
       "      <td>0</td>\n",
       "      <td>0</td>\n",
       "      <td>0</td>\n",
       "      <td>0</td>\n",
       "      <td>0</td>\n",
       "      <td>0</td>\n",
       "      <td>0</td>\n",
       "      <td>0</td>\n",
       "      <td>0</td>\n",
       "    </tr>\n",
       "  </tbody>\n",
       "</table>\n",
       "</div>"
      ],
      "text/plain": [
       "   user_id tariff   reg_date churn_date  month_begin  month_end  1  2  3  4  \\\n",
       "0     1000  ultra 2018-05-25 2018-12-31            5         12  0  0  0  0   \n",
       "1     1001  smart 2018-11-01 2018-12-31           11         12  0  0  0  0   \n",
       "2     1002  smart 2018-06-17 2018-12-31            6         12  0  0  0  0   \n",
       "3     1003  ultra 2018-08-17 2018-12-31            8         12  0  0  0  0   \n",
       "4     1004  ultra 2018-05-14 2018-12-31            5         12  0  0  0  0   \n",
       "\n",
       "   5  6  7  8  9  10  11  12  \n",
       "0  0  0  0  0  0   0   0   0  \n",
       "1  0  0  0  0  0   0   0   0  \n",
       "2  0  0  0  0  0   0   0   0  \n",
       "3  0  0  0  0  0   0   0   0  \n",
       "4  0  0  0  0  0   0   0   0  "
      ]
     },
     "execution_count": 207,
     "metadata": {},
     "output_type": "execute_result"
    }
   ],
   "source": [
    "# Пустой датафрейм\n",
    "for i in range(1,13):\n",
    "    temp = pd.DataFrame(tariff_stat['user_id'])\n",
    "    temp[i] = 0\n",
    "    tariff_stat = tariff_stat.merge(temp, on= 'user_id', how='left')\n",
    "tariff_stat.head(5)"
   ]
  },
  {
   "cell_type": "markdown",
   "metadata": {},
   "source": [
    "Заполним абонентской платой месяца в которых тариф действителен."
   ]
  },
  {
   "cell_type": "code",
   "execution_count": 208,
   "metadata": {},
   "outputs": [
    {
     "data": {
      "text/html": [
       "<div>\n",
       "<style scoped>\n",
       "    .dataframe tbody tr th:only-of-type {\n",
       "        vertical-align: middle;\n",
       "    }\n",
       "\n",
       "    .dataframe tbody tr th {\n",
       "        vertical-align: top;\n",
       "    }\n",
       "\n",
       "    .dataframe thead th {\n",
       "        text-align: right;\n",
       "    }\n",
       "</style>\n",
       "<table border=\"1\" class=\"dataframe\">\n",
       "  <thead>\n",
       "    <tr style=\"text-align: right;\">\n",
       "      <th></th>\n",
       "      <th>user_id</th>\n",
       "      <th>tariff</th>\n",
       "      <th>reg_date</th>\n",
       "      <th>churn_date</th>\n",
       "      <th>month_begin</th>\n",
       "      <th>month_end</th>\n",
       "      <th>1</th>\n",
       "      <th>2</th>\n",
       "      <th>3</th>\n",
       "      <th>4</th>\n",
       "      <th>5</th>\n",
       "      <th>6</th>\n",
       "      <th>7</th>\n",
       "      <th>8</th>\n",
       "      <th>9</th>\n",
       "      <th>10</th>\n",
       "      <th>11</th>\n",
       "      <th>12</th>\n",
       "    </tr>\n",
       "  </thead>\n",
       "  <tbody>\n",
       "    <tr>\n",
       "      <td>0</td>\n",
       "      <td>1000</td>\n",
       "      <td>ultra</td>\n",
       "      <td>2018-05-25</td>\n",
       "      <td>2018-12-31</td>\n",
       "      <td>5</td>\n",
       "      <td>12</td>\n",
       "      <td>0</td>\n",
       "      <td>0</td>\n",
       "      <td>0</td>\n",
       "      <td>0</td>\n",
       "      <td>1950</td>\n",
       "      <td>1950</td>\n",
       "      <td>1950</td>\n",
       "      <td>1950</td>\n",
       "      <td>1950</td>\n",
       "      <td>1950</td>\n",
       "      <td>1950</td>\n",
       "      <td>1950</td>\n",
       "    </tr>\n",
       "    <tr>\n",
       "      <td>1</td>\n",
       "      <td>1001</td>\n",
       "      <td>smart</td>\n",
       "      <td>2018-11-01</td>\n",
       "      <td>2018-12-31</td>\n",
       "      <td>11</td>\n",
       "      <td>12</td>\n",
       "      <td>0</td>\n",
       "      <td>0</td>\n",
       "      <td>0</td>\n",
       "      <td>0</td>\n",
       "      <td>0</td>\n",
       "      <td>0</td>\n",
       "      <td>0</td>\n",
       "      <td>0</td>\n",
       "      <td>0</td>\n",
       "      <td>0</td>\n",
       "      <td>550</td>\n",
       "      <td>550</td>\n",
       "    </tr>\n",
       "    <tr>\n",
       "      <td>2</td>\n",
       "      <td>1002</td>\n",
       "      <td>smart</td>\n",
       "      <td>2018-06-17</td>\n",
       "      <td>2018-12-31</td>\n",
       "      <td>6</td>\n",
       "      <td>12</td>\n",
       "      <td>0</td>\n",
       "      <td>0</td>\n",
       "      <td>0</td>\n",
       "      <td>0</td>\n",
       "      <td>0</td>\n",
       "      <td>550</td>\n",
       "      <td>550</td>\n",
       "      <td>550</td>\n",
       "      <td>550</td>\n",
       "      <td>550</td>\n",
       "      <td>550</td>\n",
       "      <td>550</td>\n",
       "    </tr>\n",
       "    <tr>\n",
       "      <td>3</td>\n",
       "      <td>1003</td>\n",
       "      <td>ultra</td>\n",
       "      <td>2018-08-17</td>\n",
       "      <td>2018-12-31</td>\n",
       "      <td>8</td>\n",
       "      <td>12</td>\n",
       "      <td>0</td>\n",
       "      <td>0</td>\n",
       "      <td>0</td>\n",
       "      <td>0</td>\n",
       "      <td>0</td>\n",
       "      <td>0</td>\n",
       "      <td>0</td>\n",
       "      <td>1950</td>\n",
       "      <td>1950</td>\n",
       "      <td>1950</td>\n",
       "      <td>1950</td>\n",
       "      <td>1950</td>\n",
       "    </tr>\n",
       "    <tr>\n",
       "      <td>4</td>\n",
       "      <td>1004</td>\n",
       "      <td>ultra</td>\n",
       "      <td>2018-05-14</td>\n",
       "      <td>2018-12-31</td>\n",
       "      <td>5</td>\n",
       "      <td>12</td>\n",
       "      <td>0</td>\n",
       "      <td>0</td>\n",
       "      <td>0</td>\n",
       "      <td>0</td>\n",
       "      <td>1950</td>\n",
       "      <td>1950</td>\n",
       "      <td>1950</td>\n",
       "      <td>1950</td>\n",
       "      <td>1950</td>\n",
       "      <td>1950</td>\n",
       "      <td>1950</td>\n",
       "      <td>1950</td>\n",
       "    </tr>\n",
       "  </tbody>\n",
       "</table>\n",
       "</div>"
      ],
      "text/plain": [
       "   user_id tariff   reg_date churn_date  month_begin  month_end  1  2  3  4  \\\n",
       "0     1000  ultra 2018-05-25 2018-12-31            5         12  0  0  0  0   \n",
       "1     1001  smart 2018-11-01 2018-12-31           11         12  0  0  0  0   \n",
       "2     1002  smart 2018-06-17 2018-12-31            6         12  0  0  0  0   \n",
       "3     1003  ultra 2018-08-17 2018-12-31            8         12  0  0  0  0   \n",
       "4     1004  ultra 2018-05-14 2018-12-31            5         12  0  0  0  0   \n",
       "\n",
       "      5     6     7     8     9    10    11    12  \n",
       "0  1950  1950  1950  1950  1950  1950  1950  1950  \n",
       "1     0     0     0     0     0     0   550   550  \n",
       "2     0   550   550   550   550   550   550   550  \n",
       "3     0     0     0  1950  1950  1950  1950  1950  \n",
       "4  1950  1950  1950  1950  1950  1950  1950  1950  "
      ]
     },
     "metadata": {},
     "output_type": "display_data"
    },
    {
     "data": {
      "text/html": [
       "<div>\n",
       "<style scoped>\n",
       "    .dataframe tbody tr th:only-of-type {\n",
       "        vertical-align: middle;\n",
       "    }\n",
       "\n",
       "    .dataframe tbody tr th {\n",
       "        vertical-align: top;\n",
       "    }\n",
       "\n",
       "    .dataframe thead th {\n",
       "        text-align: right;\n",
       "    }\n",
       "</style>\n",
       "<table border=\"1\" class=\"dataframe\">\n",
       "  <thead>\n",
       "    <tr style=\"text-align: right;\">\n",
       "      <th></th>\n",
       "      <th>user_id</th>\n",
       "      <th>tariff</th>\n",
       "      <th>reg_date</th>\n",
       "      <th>churn_date</th>\n",
       "      <th>month_begin</th>\n",
       "      <th>month_end</th>\n",
       "      <th>1</th>\n",
       "      <th>2</th>\n",
       "      <th>3</th>\n",
       "      <th>4</th>\n",
       "      <th>5</th>\n",
       "      <th>6</th>\n",
       "      <th>7</th>\n",
       "      <th>8</th>\n",
       "      <th>9</th>\n",
       "      <th>10</th>\n",
       "      <th>11</th>\n",
       "      <th>12</th>\n",
       "    </tr>\n",
       "  </thead>\n",
       "  <tbody>\n",
       "    <tr>\n",
       "      <td>19</td>\n",
       "      <td>1019</td>\n",
       "      <td>ultra</td>\n",
       "      <td>2018-05-16</td>\n",
       "      <td>2018-10-05</td>\n",
       "      <td>5</td>\n",
       "      <td>10</td>\n",
       "      <td>0</td>\n",
       "      <td>0</td>\n",
       "      <td>0</td>\n",
       "      <td>0</td>\n",
       "      <td>1950</td>\n",
       "      <td>1950</td>\n",
       "      <td>1950</td>\n",
       "      <td>1950</td>\n",
       "      <td>1950</td>\n",
       "      <td>1950</td>\n",
       "      <td>0</td>\n",
       "      <td>0</td>\n",
       "    </tr>\n",
       "    <tr>\n",
       "      <td>34</td>\n",
       "      <td>1034</td>\n",
       "      <td>smart</td>\n",
       "      <td>2018-08-26</td>\n",
       "      <td>2018-11-21</td>\n",
       "      <td>8</td>\n",
       "      <td>11</td>\n",
       "      <td>0</td>\n",
       "      <td>0</td>\n",
       "      <td>0</td>\n",
       "      <td>0</td>\n",
       "      <td>0</td>\n",
       "      <td>0</td>\n",
       "      <td>0</td>\n",
       "      <td>550</td>\n",
       "      <td>550</td>\n",
       "      <td>550</td>\n",
       "      <td>550</td>\n",
       "      <td>0</td>\n",
       "    </tr>\n",
       "    <tr>\n",
       "      <td>50</td>\n",
       "      <td>1050</td>\n",
       "      <td>ultra</td>\n",
       "      <td>2018-06-16</td>\n",
       "      <td>2018-10-03</td>\n",
       "      <td>6</td>\n",
       "      <td>10</td>\n",
       "      <td>0</td>\n",
       "      <td>0</td>\n",
       "      <td>0</td>\n",
       "      <td>0</td>\n",
       "      <td>0</td>\n",
       "      <td>1950</td>\n",
       "      <td>1950</td>\n",
       "      <td>1950</td>\n",
       "      <td>1950</td>\n",
       "      <td>1950</td>\n",
       "      <td>0</td>\n",
       "      <td>0</td>\n",
       "    </tr>\n",
       "    <tr>\n",
       "      <td>51</td>\n",
       "      <td>1051</td>\n",
       "      <td>smart</td>\n",
       "      <td>2018-05-28</td>\n",
       "      <td>2018-10-14</td>\n",
       "      <td>5</td>\n",
       "      <td>10</td>\n",
       "      <td>0</td>\n",
       "      <td>0</td>\n",
       "      <td>0</td>\n",
       "      <td>0</td>\n",
       "      <td>550</td>\n",
       "      <td>550</td>\n",
       "      <td>550</td>\n",
       "      <td>550</td>\n",
       "      <td>550</td>\n",
       "      <td>550</td>\n",
       "      <td>0</td>\n",
       "      <td>0</td>\n",
       "    </tr>\n",
       "    <tr>\n",
       "      <td>56</td>\n",
       "      <td>1056</td>\n",
       "      <td>smart</td>\n",
       "      <td>2018-04-13</td>\n",
       "      <td>2018-10-14</td>\n",
       "      <td>4</td>\n",
       "      <td>10</td>\n",
       "      <td>0</td>\n",
       "      <td>0</td>\n",
       "      <td>0</td>\n",
       "      <td>550</td>\n",
       "      <td>550</td>\n",
       "      <td>550</td>\n",
       "      <td>550</td>\n",
       "      <td>550</td>\n",
       "      <td>550</td>\n",
       "      <td>550</td>\n",
       "      <td>0</td>\n",
       "      <td>0</td>\n",
       "    </tr>\n",
       "  </tbody>\n",
       "</table>\n",
       "</div>"
      ],
      "text/plain": [
       "    user_id tariff   reg_date churn_date  month_begin  month_end  1  2  3  \\\n",
       "19     1019  ultra 2018-05-16 2018-10-05            5         10  0  0  0   \n",
       "34     1034  smart 2018-08-26 2018-11-21            8         11  0  0  0   \n",
       "50     1050  ultra 2018-06-16 2018-10-03            6         10  0  0  0   \n",
       "51     1051  smart 2018-05-28 2018-10-14            5         10  0  0  0   \n",
       "56     1056  smart 2018-04-13 2018-10-14            4         10  0  0  0   \n",
       "\n",
       "      4     5     6     7     8     9    10   11  12  \n",
       "19    0  1950  1950  1950  1950  1950  1950    0   0  \n",
       "34    0     0     0     0   550   550   550  550   0  \n",
       "50    0     0  1950  1950  1950  1950  1950    0   0  \n",
       "51    0   550   550   550   550   550   550    0   0  \n",
       "56  550   550   550   550   550   550   550    0   0  "
      ]
     },
     "metadata": {},
     "output_type": "display_data"
    }
   ],
   "source": [
    "# Заполнение Абонентской платой\n",
    "\n",
    "for i in range(1,13):\n",
    "    for k,row in tariffs.iterrows():\n",
    "        t_name = row['tariff_name']\n",
    "        criteria = '(tariff == @t_name) and (@i >= month_begin) and (@i <= month_end)'\n",
    "        tariff_stat.loc[tariff_stat.eval(criteria),i] = row['rub_monthly_fee']\n",
    "\n",
    "# Примеры таблиц\n",
    "display(tariff_stat.head(5))\n",
    "display(tariff_stat.query('month_end < 12').head(5))"
   ]
  },
  {
   "cell_type": "markdown",
   "metadata": {},
   "source": [
    "Заготовка таблицы получена. В таблице проставлены обязательные ежемесячные платежи.\n",
    "\n",
    "**Округляем минуты и мегабайты**\n",
    "\n",
    "Обратите внимание: «Мегалайн» всегда округляет вверх значения минут и мегабайтов. Если пользователь проговорил всего 1 секунду, в тарифе засчитывается целая минута."
   ]
  },
  {
   "cell_type": "code",
   "execution_count": 209,
   "metadata": {},
   "outputs": [],
   "source": [
    "# Округляем звонки до целых минут\n",
    "calls.loc[:,'duration'] = np.ceil(calls['duration'])\n",
    "\n",
    "# Окургляем мегабайты в сессиях до целых.\n",
    "internet.loc[:,'mb_used'] = np.ceil(internet['mb_used'])"
   ]
  },
  {
   "cell_type": "markdown",
   "metadata": {},
   "source": [
    "Теперь займемся рассчетом платежей сверх тарифного плана.\n",
    "\n",
    "Сначала создадим таблицу с объединенными данными для расчета."
   ]
  },
  {
   "cell_type": "code",
   "execution_count": 223,
   "metadata": {},
   "outputs": [
    {
     "data": {
      "text/html": [
       "<div>\n",
       "<style scoped>\n",
       "    .dataframe tbody tr th:only-of-type {\n",
       "        vertical-align: middle;\n",
       "    }\n",
       "\n",
       "    .dataframe tbody tr th {\n",
       "        vertical-align: top;\n",
       "    }\n",
       "\n",
       "    .dataframe thead th {\n",
       "        text-align: right;\n",
       "    }\n",
       "</style>\n",
       "<table border=\"1\" class=\"dataframe\">\n",
       "  <thead>\n",
       "    <tr style=\"text-align: right;\">\n",
       "      <th></th>\n",
       "      <th>month</th>\n",
       "      <th>user_id</th>\n",
       "      <th>duration</th>\n",
       "      <th>messages</th>\n",
       "      <th>mb_used</th>\n",
       "      <th>tariff</th>\n",
       "    </tr>\n",
       "  </thead>\n",
       "  <tbody>\n",
       "    <tr>\n",
       "      <td>0</td>\n",
       "      <td>1</td>\n",
       "      <td>1005</td>\n",
       "      <td>95.0</td>\n",
       "      <td>7.0</td>\n",
       "      <td>2730.0</td>\n",
       "      <td>smart</td>\n",
       "    </tr>\n",
       "    <tr>\n",
       "      <td>1</td>\n",
       "      <td>1</td>\n",
       "      <td>1032</td>\n",
       "      <td>380.0</td>\n",
       "      <td>38.0</td>\n",
       "      <td>24147.0</td>\n",
       "      <td>smart</td>\n",
       "    </tr>\n",
       "    <tr>\n",
       "      <td>2</td>\n",
       "      <td>1</td>\n",
       "      <td>1045</td>\n",
       "      <td>9.0</td>\n",
       "      <td>5.0</td>\n",
       "      <td>2348.0</td>\n",
       "      <td>smart</td>\n",
       "    </tr>\n",
       "    <tr>\n",
       "      <td>3</td>\n",
       "      <td>1</td>\n",
       "      <td>1055</td>\n",
       "      <td>551.0</td>\n",
       "      <td>30.0</td>\n",
       "      <td>17111.0</td>\n",
       "      <td>smart</td>\n",
       "    </tr>\n",
       "    <tr>\n",
       "      <td>4</td>\n",
       "      <td>1</td>\n",
       "      <td>1071</td>\n",
       "      <td>194.0</td>\n",
       "      <td>16.0</td>\n",
       "      <td>15622.0</td>\n",
       "      <td>smart</td>\n",
       "    </tr>\n",
       "    <tr>\n",
       "      <td>...</td>\n",
       "      <td>...</td>\n",
       "      <td>...</td>\n",
       "      <td>...</td>\n",
       "      <td>...</td>\n",
       "      <td>...</td>\n",
       "      <td>...</td>\n",
       "    </tr>\n",
       "    <tr>\n",
       "      <td>3209</td>\n",
       "      <td>9</td>\n",
       "      <td>1489</td>\n",
       "      <td>NaN</td>\n",
       "      <td>32.0</td>\n",
       "      <td>17232.0</td>\n",
       "      <td>smart</td>\n",
       "    </tr>\n",
       "    <tr>\n",
       "      <td>3210</td>\n",
       "      <td>10</td>\n",
       "      <td>1489</td>\n",
       "      <td>NaN</td>\n",
       "      <td>21.0</td>\n",
       "      <td>19588.0</td>\n",
       "      <td>smart</td>\n",
       "    </tr>\n",
       "    <tr>\n",
       "      <td>3211</td>\n",
       "      <td>11</td>\n",
       "      <td>1489</td>\n",
       "      <td>NaN</td>\n",
       "      <td>20.0</td>\n",
       "      <td>17516.0</td>\n",
       "      <td>smart</td>\n",
       "    </tr>\n",
       "    <tr>\n",
       "      <td>3212</td>\n",
       "      <td>12</td>\n",
       "      <td>1489</td>\n",
       "      <td>NaN</td>\n",
       "      <td>35.0</td>\n",
       "      <td>17341.0</td>\n",
       "      <td>smart</td>\n",
       "    </tr>\n",
       "    <tr>\n",
       "      <td>3213</td>\n",
       "      <td>4</td>\n",
       "      <td>1476</td>\n",
       "      <td>NaN</td>\n",
       "      <td>NaN</td>\n",
       "      <td>531.0</td>\n",
       "      <td>ultra</td>\n",
       "    </tr>\n",
       "  </tbody>\n",
       "</table>\n",
       "<p>3214 rows × 6 columns</p>\n",
       "</div>"
      ],
      "text/plain": [
       "      month  user_id  duration  messages  mb_used tariff\n",
       "0         1     1005      95.0       7.0   2730.0  smart\n",
       "1         1     1032     380.0      38.0  24147.0  smart\n",
       "2         1     1045       9.0       5.0   2348.0  smart\n",
       "3         1     1055     551.0      30.0  17111.0  smart\n",
       "4         1     1071     194.0      16.0  15622.0  smart\n",
       "...     ...      ...       ...       ...      ...    ...\n",
       "3209      9     1489       NaN      32.0  17232.0  smart\n",
       "3210     10     1489       NaN      21.0  19588.0  smart\n",
       "3211     11     1489       NaN      20.0  17516.0  smart\n",
       "3212     12     1489       NaN      35.0  17341.0  smart\n",
       "3213      4     1476       NaN       NaN    531.0  ultra\n",
       "\n",
       "[3214 rows x 6 columns]"
      ]
     },
     "execution_count": 223,
     "metadata": {},
     "output_type": "execute_result"
    }
   ],
   "source": [
    "# Все записи тарификации объединим в этом DF\n",
    "months_stat = pd.DataFrame({'month' : [1,2,3,4,5,6,7,8,9,10,11,12]})\n",
    "\n",
    "# Получаем все самые необходимые данные о всех звонках\n",
    "# Сводим сводной таблицей (суммруем минуты за месяц)\n",
    "# Для простоты дальнейшей адресации сбрасываем индексы\n",
    "calls_stat = calls.pivot_table(index= ['user_id', 'month'], values= 'duration', aggfunc= 'sum').reset_index()\n",
    "\n",
    "# Объединяем с таблицей по месяцам\n",
    "months_stat = months_stat.merge(calls_stat, on= 'month', how= 'outer')\n",
    "\n",
    "# Получаем самые необходимые данные о сообщениях\n",
    "# Сводим сводной таблицей - подсчет числа сообщений методом count\n",
    "messages_stat = messages.pivot_table(index= ['user_id', 'month'], values= 'id', aggfunc= 'count').reset_index()\n",
    "# Переименуем столбцы для наглядности\n",
    "messages_stat.columns = ['user_id', 'month', 'messages']\n",
    "\n",
    "# Объединяем с таблицей по месяцам\n",
    "# Здесь объединение идет по двум столбцам\n",
    "months_stat = months_stat.merge(messages_stat, on= ['user_id', 'month'], how= 'outer')\n",
    "\n",
    "# Получаем самые необходимые данные о сессиях интернета\n",
    "# Сводим сводной таблицей (суммруем Мегабайты за месяц)\n",
    "internet_stat = internet.pivot_table(index= ['user_id', 'month'], values= 'mb_used', aggfunc= 'sum').reset_index()\n",
    "\n",
    "# Объединяем с таблицей по месяцам\n",
    "# Здесь объединение идет по двум столбцам\n",
    "months_stat = months_stat.merge(internet_stat, on= ['user_id', 'month'], how= 'outer')\n",
    "\n",
    "# Прицепим тариф\n",
    "months_stat = months_stat.merge(users[['user_id','tariff']], on= 'user_id', how= 'left')\n",
    "\n",
    "months_stat"
   ]
  },
  {
   "cell_type": "code",
   "execution_count": 211,
   "metadata": {},
   "outputs": [
    {
     "data": {
      "text/plain": [
       "(55369459.0, 55369459.0)"
      ]
     },
     "execution_count": 211,
     "metadata": {},
     "output_type": "execute_result"
    }
   ],
   "source": [
    "internet['mb_used'].sum(), months_stat['mb_used'].sum()"
   ]
  },
  {
   "cell_type": "code",
   "execution_count": 224,
   "metadata": {},
   "outputs": [
    {
     "name": "stdout",
     "output_type": "stream",
     "text": [
      "Calls 1450301.0 1450301.0\n",
      "Messages 123036 123036\n",
      "Internet 55369459.0 55369459.0\n"
     ]
    }
   ],
   "source": [
    "print('Calls', calls['duration'].sum(), months_stat['duration'].sum())\n",
    "print('Messages', messages['id'].count(), messages_stat['messages'].sum())\n",
    "print('Internet', internet['mb_used'].sum(), months_stat['mb_used'].sum())"
   ]
  },
  {
   "cell_type": "markdown",
   "metadata": {},
   "source": [
    "Итак, мы получили таблицу со всеми записями оказанных услуг. По ней рассчитаем тарификацию."
   ]
  },
  {
   "cell_type": "code",
   "execution_count": 225,
   "metadata": {},
   "outputs": [
    {
     "data": {
      "text/html": [
       "<div>\n",
       "<style scoped>\n",
       "    .dataframe tbody tr th:only-of-type {\n",
       "        vertical-align: middle;\n",
       "    }\n",
       "\n",
       "    .dataframe tbody tr th {\n",
       "        vertical-align: top;\n",
       "    }\n",
       "\n",
       "    .dataframe thead th {\n",
       "        text-align: right;\n",
       "    }\n",
       "</style>\n",
       "<table border=\"1\" class=\"dataframe\">\n",
       "  <thead>\n",
       "    <tr style=\"text-align: right;\">\n",
       "      <th></th>\n",
       "      <th>month</th>\n",
       "      <th>user_id</th>\n",
       "      <th>duration</th>\n",
       "      <th>messages</th>\n",
       "      <th>mb_used</th>\n",
       "      <th>tariff</th>\n",
       "      <th>messages_included</th>\n",
       "      <th>mb_per_month_included</th>\n",
       "      <th>minutes_included</th>\n",
       "      <th>rub_monthly_fee</th>\n",
       "      <th>rub_per_gb</th>\n",
       "      <th>rub_per_message</th>\n",
       "      <th>rub_per_minute</th>\n",
       "    </tr>\n",
       "  </thead>\n",
       "  <tbody>\n",
       "    <tr>\n",
       "      <td>0</td>\n",
       "      <td>1</td>\n",
       "      <td>1005</td>\n",
       "      <td>95.0</td>\n",
       "      <td>7.0</td>\n",
       "      <td>2730.0</td>\n",
       "      <td>smart</td>\n",
       "      <td>50</td>\n",
       "      <td>15360</td>\n",
       "      <td>500</td>\n",
       "      <td>550</td>\n",
       "      <td>200</td>\n",
       "      <td>3</td>\n",
       "      <td>3</td>\n",
       "    </tr>\n",
       "    <tr>\n",
       "      <td>1</td>\n",
       "      <td>1</td>\n",
       "      <td>1032</td>\n",
       "      <td>380.0</td>\n",
       "      <td>38.0</td>\n",
       "      <td>24147.0</td>\n",
       "      <td>smart</td>\n",
       "      <td>50</td>\n",
       "      <td>15360</td>\n",
       "      <td>500</td>\n",
       "      <td>550</td>\n",
       "      <td>200</td>\n",
       "      <td>3</td>\n",
       "      <td>3</td>\n",
       "    </tr>\n",
       "    <tr>\n",
       "      <td>2</td>\n",
       "      <td>1</td>\n",
       "      <td>1045</td>\n",
       "      <td>9.0</td>\n",
       "      <td>5.0</td>\n",
       "      <td>2348.0</td>\n",
       "      <td>smart</td>\n",
       "      <td>50</td>\n",
       "      <td>15360</td>\n",
       "      <td>500</td>\n",
       "      <td>550</td>\n",
       "      <td>200</td>\n",
       "      <td>3</td>\n",
       "      <td>3</td>\n",
       "    </tr>\n",
       "    <tr>\n",
       "      <td>3</td>\n",
       "      <td>1</td>\n",
       "      <td>1055</td>\n",
       "      <td>551.0</td>\n",
       "      <td>30.0</td>\n",
       "      <td>17111.0</td>\n",
       "      <td>smart</td>\n",
       "      <td>50</td>\n",
       "      <td>15360</td>\n",
       "      <td>500</td>\n",
       "      <td>550</td>\n",
       "      <td>200</td>\n",
       "      <td>3</td>\n",
       "      <td>3</td>\n",
       "    </tr>\n",
       "    <tr>\n",
       "      <td>4</td>\n",
       "      <td>1</td>\n",
       "      <td>1071</td>\n",
       "      <td>194.0</td>\n",
       "      <td>16.0</td>\n",
       "      <td>15622.0</td>\n",
       "      <td>smart</td>\n",
       "      <td>50</td>\n",
       "      <td>15360</td>\n",
       "      <td>500</td>\n",
       "      <td>550</td>\n",
       "      <td>200</td>\n",
       "      <td>3</td>\n",
       "      <td>3</td>\n",
       "    </tr>\n",
       "    <tr>\n",
       "      <td>...</td>\n",
       "      <td>...</td>\n",
       "      <td>...</td>\n",
       "      <td>...</td>\n",
       "      <td>...</td>\n",
       "      <td>...</td>\n",
       "      <td>...</td>\n",
       "      <td>...</td>\n",
       "      <td>...</td>\n",
       "      <td>...</td>\n",
       "      <td>...</td>\n",
       "      <td>...</td>\n",
       "      <td>...</td>\n",
       "      <td>...</td>\n",
       "    </tr>\n",
       "    <tr>\n",
       "      <td>3209</td>\n",
       "      <td>9</td>\n",
       "      <td>1489</td>\n",
       "      <td>NaN</td>\n",
       "      <td>32.0</td>\n",
       "      <td>17232.0</td>\n",
       "      <td>smart</td>\n",
       "      <td>50</td>\n",
       "      <td>15360</td>\n",
       "      <td>500</td>\n",
       "      <td>550</td>\n",
       "      <td>200</td>\n",
       "      <td>3</td>\n",
       "      <td>3</td>\n",
       "    </tr>\n",
       "    <tr>\n",
       "      <td>3210</td>\n",
       "      <td>10</td>\n",
       "      <td>1489</td>\n",
       "      <td>NaN</td>\n",
       "      <td>21.0</td>\n",
       "      <td>19588.0</td>\n",
       "      <td>smart</td>\n",
       "      <td>50</td>\n",
       "      <td>15360</td>\n",
       "      <td>500</td>\n",
       "      <td>550</td>\n",
       "      <td>200</td>\n",
       "      <td>3</td>\n",
       "      <td>3</td>\n",
       "    </tr>\n",
       "    <tr>\n",
       "      <td>3211</td>\n",
       "      <td>11</td>\n",
       "      <td>1489</td>\n",
       "      <td>NaN</td>\n",
       "      <td>20.0</td>\n",
       "      <td>17516.0</td>\n",
       "      <td>smart</td>\n",
       "      <td>50</td>\n",
       "      <td>15360</td>\n",
       "      <td>500</td>\n",
       "      <td>550</td>\n",
       "      <td>200</td>\n",
       "      <td>3</td>\n",
       "      <td>3</td>\n",
       "    </tr>\n",
       "    <tr>\n",
       "      <td>3212</td>\n",
       "      <td>12</td>\n",
       "      <td>1489</td>\n",
       "      <td>NaN</td>\n",
       "      <td>35.0</td>\n",
       "      <td>17341.0</td>\n",
       "      <td>smart</td>\n",
       "      <td>50</td>\n",
       "      <td>15360</td>\n",
       "      <td>500</td>\n",
       "      <td>550</td>\n",
       "      <td>200</td>\n",
       "      <td>3</td>\n",
       "      <td>3</td>\n",
       "    </tr>\n",
       "    <tr>\n",
       "      <td>3213</td>\n",
       "      <td>4</td>\n",
       "      <td>1476</td>\n",
       "      <td>NaN</td>\n",
       "      <td>NaN</td>\n",
       "      <td>531.0</td>\n",
       "      <td>ultra</td>\n",
       "      <td>1000</td>\n",
       "      <td>30720</td>\n",
       "      <td>3000</td>\n",
       "      <td>1950</td>\n",
       "      <td>150</td>\n",
       "      <td>1</td>\n",
       "      <td>1</td>\n",
       "    </tr>\n",
       "  </tbody>\n",
       "</table>\n",
       "<p>3214 rows × 13 columns</p>\n",
       "</div>"
      ],
      "text/plain": [
       "      month  user_id  duration  messages  mb_used tariff  messages_included  \\\n",
       "0         1     1005      95.0       7.0   2730.0  smart                 50   \n",
       "1         1     1032     380.0      38.0  24147.0  smart                 50   \n",
       "2         1     1045       9.0       5.0   2348.0  smart                 50   \n",
       "3         1     1055     551.0      30.0  17111.0  smart                 50   \n",
       "4         1     1071     194.0      16.0  15622.0  smart                 50   \n",
       "...     ...      ...       ...       ...      ...    ...                ...   \n",
       "3209      9     1489       NaN      32.0  17232.0  smart                 50   \n",
       "3210     10     1489       NaN      21.0  19588.0  smart                 50   \n",
       "3211     11     1489       NaN      20.0  17516.0  smart                 50   \n",
       "3212     12     1489       NaN      35.0  17341.0  smart                 50   \n",
       "3213      4     1476       NaN       NaN    531.0  ultra               1000   \n",
       "\n",
       "      mb_per_month_included  minutes_included  rub_monthly_fee  rub_per_gb  \\\n",
       "0                     15360               500              550         200   \n",
       "1                     15360               500              550         200   \n",
       "2                     15360               500              550         200   \n",
       "3                     15360               500              550         200   \n",
       "4                     15360               500              550         200   \n",
       "...                     ...               ...              ...         ...   \n",
       "3209                  15360               500              550         200   \n",
       "3210                  15360               500              550         200   \n",
       "3211                  15360               500              550         200   \n",
       "3212                  15360               500              550         200   \n",
       "3213                  30720              3000             1950         150   \n",
       "\n",
       "      rub_per_message  rub_per_minute  \n",
       "0                   3               3  \n",
       "1                   3               3  \n",
       "2                   3               3  \n",
       "3                   3               3  \n",
       "4                   3               3  \n",
       "...               ...             ...  \n",
       "3209                3               3  \n",
       "3210                3               3  \n",
       "3211                3               3  \n",
       "3212                3               3  \n",
       "3213                1               1  \n",
       "\n",
       "[3214 rows x 13 columns]"
      ]
     },
     "execution_count": 225,
     "metadata": {},
     "output_type": "execute_result"
    }
   ],
   "source": [
    "# Переименуем столбец в таблице тарифовб чтобы она могла объединяться\n",
    "tariffs.columns = ['messages_included', 'mb_per_month_included', 'minutes_included',\n",
    "       'rub_monthly_fee', 'rub_per_gb', 'rub_per_message', 'rub_per_minute',\n",
    "       'tariff']\n",
    "# Прицепим лимиты\n",
    "months_stat = months_stat.merge(tariffs, on= 'tariff', how= 'left')\n",
    "months_stat"
   ]
  },
  {
   "cell_type": "markdown",
   "metadata": {},
   "source": [
    "Теперь посчитаем каждый месяц.\n",
    "\n",
    "Расчитываем ТОЛЬКО ПРЕВЫШЕНИЯ стандартного пакета."
   ]
  },
  {
   "cell_type": "code",
   "execution_count": 226,
   "metadata": {},
   "outputs": [
    {
     "data": {
      "text/html": [
       "<div>\n",
       "<style scoped>\n",
       "    .dataframe tbody tr th:only-of-type {\n",
       "        vertical-align: middle;\n",
       "    }\n",
       "\n",
       "    .dataframe tbody tr th {\n",
       "        vertical-align: top;\n",
       "    }\n",
       "\n",
       "    .dataframe thead th {\n",
       "        text-align: right;\n",
       "    }\n",
       "</style>\n",
       "<table border=\"1\" class=\"dataframe\">\n",
       "  <thead>\n",
       "    <tr style=\"text-align: right;\">\n",
       "      <th></th>\n",
       "      <th>messages_included</th>\n",
       "      <th>mb_per_month_included</th>\n",
       "      <th>minutes_included</th>\n",
       "      <th>rub_monthly_fee</th>\n",
       "      <th>rub_per_gb</th>\n",
       "      <th>rub_per_message</th>\n",
       "      <th>rub_per_minute</th>\n",
       "      <th>tariff</th>\n",
       "    </tr>\n",
       "  </thead>\n",
       "  <tbody>\n",
       "    <tr>\n",
       "      <td>0</td>\n",
       "      <td>50</td>\n",
       "      <td>15360</td>\n",
       "      <td>500</td>\n",
       "      <td>550</td>\n",
       "      <td>200</td>\n",
       "      <td>3</td>\n",
       "      <td>3</td>\n",
       "      <td>smart</td>\n",
       "    </tr>\n",
       "    <tr>\n",
       "      <td>1</td>\n",
       "      <td>1000</td>\n",
       "      <td>30720</td>\n",
       "      <td>3000</td>\n",
       "      <td>1950</td>\n",
       "      <td>150</td>\n",
       "      <td>1</td>\n",
       "      <td>1</td>\n",
       "      <td>ultra</td>\n",
       "    </tr>\n",
       "  </tbody>\n",
       "</table>\n",
       "</div>"
      ],
      "text/plain": [
       "   messages_included  mb_per_month_included  minutes_included  \\\n",
       "0                 50                  15360               500   \n",
       "1               1000                  30720              3000   \n",
       "\n",
       "   rub_monthly_fee  rub_per_gb  rub_per_message  rub_per_minute tariff  \n",
       "0              550         200                3               3  smart  \n",
       "1             1950         150                1               1  ultra  "
      ]
     },
     "metadata": {},
     "output_type": "display_data"
    }
   ],
   "source": [
    "# Напоминака по тариффным панам\n",
    "display(tariffs)"
   ]
  },
  {
   "cell_type": "code",
   "execution_count": 227,
   "metadata": {},
   "outputs": [
    {
     "data": {
      "text/html": [
       "<div>\n",
       "<style scoped>\n",
       "    .dataframe tbody tr th:only-of-type {\n",
       "        vertical-align: middle;\n",
       "    }\n",
       "\n",
       "    .dataframe tbody tr th {\n",
       "        vertical-align: top;\n",
       "    }\n",
       "\n",
       "    .dataframe thead th {\n",
       "        text-align: right;\n",
       "    }\n",
       "</style>\n",
       "<table border=\"1\" class=\"dataframe\">\n",
       "  <thead>\n",
       "    <tr style=\"text-align: right;\">\n",
       "      <th></th>\n",
       "      <th>month</th>\n",
       "      <th>user_id</th>\n",
       "      <th>duration</th>\n",
       "      <th>messages</th>\n",
       "      <th>mb_used</th>\n",
       "      <th>tariff</th>\n",
       "      <th>messages_included</th>\n",
       "      <th>mb_per_month_included</th>\n",
       "      <th>minutes_included</th>\n",
       "      <th>rub_monthly_fee</th>\n",
       "      <th>rub_per_gb</th>\n",
       "      <th>rub_per_message</th>\n",
       "      <th>rub_per_minute</th>\n",
       "      <th>calls_over_tax</th>\n",
       "      <th>mess_over_tax</th>\n",
       "      <th>mb_over_tax</th>\n",
       "    </tr>\n",
       "  </thead>\n",
       "  <tbody>\n",
       "    <tr>\n",
       "      <td>0</td>\n",
       "      <td>1</td>\n",
       "      <td>1005</td>\n",
       "      <td>95.0</td>\n",
       "      <td>7.0</td>\n",
       "      <td>2730.0</td>\n",
       "      <td>smart</td>\n",
       "      <td>50</td>\n",
       "      <td>15360</td>\n",
       "      <td>500</td>\n",
       "      <td>550</td>\n",
       "      <td>200</td>\n",
       "      <td>3</td>\n",
       "      <td>3</td>\n",
       "      <td>0.0</td>\n",
       "      <td>0.0</td>\n",
       "      <td>0.0</td>\n",
       "    </tr>\n",
       "    <tr>\n",
       "      <td>1</td>\n",
       "      <td>1</td>\n",
       "      <td>1032</td>\n",
       "      <td>380.0</td>\n",
       "      <td>38.0</td>\n",
       "      <td>24147.0</td>\n",
       "      <td>smart</td>\n",
       "      <td>50</td>\n",
       "      <td>15360</td>\n",
       "      <td>500</td>\n",
       "      <td>550</td>\n",
       "      <td>200</td>\n",
       "      <td>3</td>\n",
       "      <td>3</td>\n",
       "      <td>0.0</td>\n",
       "      <td>0.0</td>\n",
       "      <td>1800.0</td>\n",
       "    </tr>\n",
       "    <tr>\n",
       "      <td>2</td>\n",
       "      <td>1</td>\n",
       "      <td>1045</td>\n",
       "      <td>9.0</td>\n",
       "      <td>5.0</td>\n",
       "      <td>2348.0</td>\n",
       "      <td>smart</td>\n",
       "      <td>50</td>\n",
       "      <td>15360</td>\n",
       "      <td>500</td>\n",
       "      <td>550</td>\n",
       "      <td>200</td>\n",
       "      <td>3</td>\n",
       "      <td>3</td>\n",
       "      <td>0.0</td>\n",
       "      <td>0.0</td>\n",
       "      <td>0.0</td>\n",
       "    </tr>\n",
       "    <tr>\n",
       "      <td>3</td>\n",
       "      <td>1</td>\n",
       "      <td>1055</td>\n",
       "      <td>551.0</td>\n",
       "      <td>30.0</td>\n",
       "      <td>17111.0</td>\n",
       "      <td>smart</td>\n",
       "      <td>50</td>\n",
       "      <td>15360</td>\n",
       "      <td>500</td>\n",
       "      <td>550</td>\n",
       "      <td>200</td>\n",
       "      <td>3</td>\n",
       "      <td>3</td>\n",
       "      <td>153.0</td>\n",
       "      <td>0.0</td>\n",
       "      <td>400.0</td>\n",
       "    </tr>\n",
       "    <tr>\n",
       "      <td>4</td>\n",
       "      <td>1</td>\n",
       "      <td>1071</td>\n",
       "      <td>194.0</td>\n",
       "      <td>16.0</td>\n",
       "      <td>15622.0</td>\n",
       "      <td>smart</td>\n",
       "      <td>50</td>\n",
       "      <td>15360</td>\n",
       "      <td>500</td>\n",
       "      <td>550</td>\n",
       "      <td>200</td>\n",
       "      <td>3</td>\n",
       "      <td>3</td>\n",
       "      <td>0.0</td>\n",
       "      <td>0.0</td>\n",
       "      <td>200.0</td>\n",
       "    </tr>\n",
       "  </tbody>\n",
       "</table>\n",
       "</div>"
      ],
      "text/plain": [
       "   month  user_id  duration  messages  mb_used tariff  messages_included  \\\n",
       "0      1     1005      95.0       7.0   2730.0  smart                 50   \n",
       "1      1     1032     380.0      38.0  24147.0  smart                 50   \n",
       "2      1     1045       9.0       5.0   2348.0  smart                 50   \n",
       "3      1     1055     551.0      30.0  17111.0  smart                 50   \n",
       "4      1     1071     194.0      16.0  15622.0  smart                 50   \n",
       "\n",
       "   mb_per_month_included  minutes_included  rub_monthly_fee  rub_per_gb  \\\n",
       "0                  15360               500              550         200   \n",
       "1                  15360               500              550         200   \n",
       "2                  15360               500              550         200   \n",
       "3                  15360               500              550         200   \n",
       "4                  15360               500              550         200   \n",
       "\n",
       "   rub_per_message  rub_per_minute  calls_over_tax  mess_over_tax  mb_over_tax  \n",
       "0                3               3             0.0            0.0          0.0  \n",
       "1                3               3             0.0            0.0       1800.0  \n",
       "2                3               3             0.0            0.0          0.0  \n",
       "3                3               3           153.0            0.0        400.0  \n",
       "4                3               3             0.0            0.0        200.0  "
      ]
     },
     "execution_count": 227,
     "metadata": {},
     "output_type": "execute_result"
    }
   ],
   "source": [
    "#months_stat['overtax'] = months_stat.query('duration > minutes_included')\n",
    "\n",
    "for i, row in months_stat.iterrows():\n",
    "    months_stat.loc[i, 'calls_over_tax'] = 0\n",
    "    months_stat.loc[i, 'mess_over_tax'] = 0\n",
    "    months_stat.loc[i, 'mb_over_tax'] = 0\n",
    "    if row['duration'] > row['minutes_included']:\n",
    "        months_stat.loc[i, 'calls_over_tax'] = (row['duration'] - row['minutes_included']) * row['rub_per_minute']\n",
    "    if row['messages'] > row['messages_included']:\n",
    "        months_stat.loc[i, 'mess_over_tax'] = (row['messages'] - row['messages_included']) * row['rub_per_message']\n",
    "    if row['mb_used'] > row['mb_per_month_included']:\n",
    "        # не забываем окурглить до ГБ\n",
    "        months_stat.loc[i, 'mb_over_tax'] = np.ceil((row['mb_used'] - row['mb_per_month_included']) / 1024) * row['rub_per_gb']\n",
    "\n",
    "months_stat.head(5)"
   ]
  },
  {
   "cell_type": "markdown",
   "metadata": {},
   "source": [
    "Итак, мы посчитали все перерасходы выше тарифа. Оталось только добавить это к расчитанным ранее расходам абонентской платы."
   ]
  },
  {
   "cell_type": "code",
   "execution_count": 228,
   "metadata": {},
   "outputs": [
    {
     "data": {
      "text/html": [
       "<div>\n",
       "<style scoped>\n",
       "    .dataframe tbody tr th:only-of-type {\n",
       "        vertical-align: middle;\n",
       "    }\n",
       "\n",
       "    .dataframe tbody tr th {\n",
       "        vertical-align: top;\n",
       "    }\n",
       "\n",
       "    .dataframe thead th {\n",
       "        text-align: right;\n",
       "    }\n",
       "</style>\n",
       "<table border=\"1\" class=\"dataframe\">\n",
       "  <thead>\n",
       "    <tr style=\"text-align: right;\">\n",
       "      <th></th>\n",
       "      <th>user_id</th>\n",
       "      <th>tariff</th>\n",
       "      <th>reg_date</th>\n",
       "      <th>churn_date</th>\n",
       "      <th>month_begin</th>\n",
       "      <th>month_end</th>\n",
       "      <th>1</th>\n",
       "      <th>2</th>\n",
       "      <th>3</th>\n",
       "      <th>4</th>\n",
       "      <th>5</th>\n",
       "      <th>6</th>\n",
       "      <th>7</th>\n",
       "      <th>8</th>\n",
       "      <th>9</th>\n",
       "      <th>10</th>\n",
       "      <th>11</th>\n",
       "      <th>12</th>\n",
       "    </tr>\n",
       "  </thead>\n",
       "  <tbody>\n",
       "    <tr>\n",
       "      <td>32</td>\n",
       "      <td>1032</td>\n",
       "      <td>smart</td>\n",
       "      <td>2018-01-04</td>\n",
       "      <td>2018-12-31</td>\n",
       "      <td>1</td>\n",
       "      <td>12</td>\n",
       "      <td>2350.0</td>\n",
       "      <td>550.0</td>\n",
       "      <td>2550.0</td>\n",
       "      <td>1013.0</td>\n",
       "      <td>986.0</td>\n",
       "      <td>1350.0</td>\n",
       "      <td>1550.0</td>\n",
       "      <td>2550.0</td>\n",
       "      <td>1171.0</td>\n",
       "      <td>550.0</td>\n",
       "      <td>2150.0</td>\n",
       "      <td>1150.0</td>\n",
       "    </tr>\n",
       "  </tbody>\n",
       "</table>\n",
       "</div>"
      ],
      "text/plain": [
       "    user_id tariff   reg_date churn_date  month_begin  month_end       1  \\\n",
       "32     1032  smart 2018-01-04 2018-12-31            1         12  2350.0   \n",
       "\n",
       "        2       3       4      5       6       7       8       9     10  \\\n",
       "32  550.0  2550.0  1013.0  986.0  1350.0  1550.0  2550.0  1171.0  550.0   \n",
       "\n",
       "        11      12  \n",
       "32  2150.0  1150.0  "
      ]
     },
     "execution_count": 228,
     "metadata": {},
     "output_type": "execute_result"
    }
   ],
   "source": [
    "# Перебираем все строки тарификации с превышением\n",
    "for i, row in months_stat.query('(calls_over_tax > 0) or (mess_over_tax > 0) or (mb_over_tax > 0)').iterrows():\n",
    "    # Добавлям эти ненулевые значения в соответствующую ячейку таблицы tariff_stat\n",
    "    user_id = row['user_id']\n",
    "    month = row['month']\n",
    "    over_tax = row['calls_over_tax'] + row['mess_over_tax'] + row['mb_over_tax']\n",
    "    criteria = 'user_id == @user_id'\n",
    "    tariff_stat.loc[tariff_stat.eval(criteria), month] = over_tax + tariff_stat.loc[tariff_stat.eval(criteria), month]\n",
    "\n",
    "tariff_stat.query('user_id == 1032').head(10)"
   ]
  },
  {
   "cell_type": "markdown",
   "metadata": {},
   "source": [
    "#### Вывод\n",
    "Помесячная выручка для каждого пользователя посчитана в таблице *tariff_stat*.\n",
    "\n",
    "В таблице months_stat посчитали сохранили превышения тарифа по услгам (звонки, сообщения, интернет)."
   ]
  },
  {
   "cell_type": "markdown",
   "metadata": {},
   "source": [
    "<a id=\"analyse\"></a>\n",
    "### Шаг 3. Анализ данных\n",
    "\n",
    "Коммерческий департамент хочет понять, какой тариф приносит больше денег.\n",
    "\n",
    "Нужно проанализировать поведение клиентов и сделать вывод — какой тариф лучше.\n",
    "\n",
    "У нас есть информация: кто они, откуда, каким тарифом пользуются, сколько звонков и сообщений каждый отправил за 2018 год. "
   ]
  },
  {
   "cell_type": "code",
   "execution_count": 229,
   "metadata": {},
   "outputs": [
    {
     "data": {
      "text/html": [
       "<div>\n",
       "<style scoped>\n",
       "    .dataframe tbody tr th:only-of-type {\n",
       "        vertical-align: middle;\n",
       "    }\n",
       "\n",
       "    .dataframe tbody tr th {\n",
       "        vertical-align: top;\n",
       "    }\n",
       "\n",
       "    .dataframe thead th {\n",
       "        text-align: right;\n",
       "    }\n",
       "</style>\n",
       "<table border=\"1\" class=\"dataframe\">\n",
       "  <thead>\n",
       "    <tr style=\"text-align: right;\">\n",
       "      <th></th>\n",
       "      <th>user_id</th>\n",
       "      <th>tariff</th>\n",
       "      <th>reg_date</th>\n",
       "      <th>churn_date</th>\n",
       "      <th>month_begin</th>\n",
       "      <th>month_end</th>\n",
       "      <th>1</th>\n",
       "      <th>2</th>\n",
       "      <th>3</th>\n",
       "      <th>4</th>\n",
       "      <th>...</th>\n",
       "      <th>8</th>\n",
       "      <th>9</th>\n",
       "      <th>10</th>\n",
       "      <th>11</th>\n",
       "      <th>12</th>\n",
       "      <th>months_use</th>\n",
       "      <th>total_income</th>\n",
       "      <th>mean_income</th>\n",
       "      <th>age</th>\n",
       "      <th>city</th>\n",
       "    </tr>\n",
       "  </thead>\n",
       "  <tbody>\n",
       "    <tr>\n",
       "      <td>0</td>\n",
       "      <td>1000</td>\n",
       "      <td>ultra</td>\n",
       "      <td>2018-05-25</td>\n",
       "      <td>2018-12-31</td>\n",
       "      <td>5</td>\n",
       "      <td>12</td>\n",
       "      <td>0.0</td>\n",
       "      <td>0.0</td>\n",
       "      <td>0.0</td>\n",
       "      <td>0.0</td>\n",
       "      <td>...</td>\n",
       "      <td>1950.0</td>\n",
       "      <td>1950.0</td>\n",
       "      <td>1950.0</td>\n",
       "      <td>1950.0</td>\n",
       "      <td>1950.0</td>\n",
       "      <td>8</td>\n",
       "      <td>15600.0</td>\n",
       "      <td>1950.000000</td>\n",
       "      <td>52</td>\n",
       "      <td>Краснодар</td>\n",
       "    </tr>\n",
       "    <tr>\n",
       "      <td>1</td>\n",
       "      <td>1001</td>\n",
       "      <td>smart</td>\n",
       "      <td>2018-11-01</td>\n",
       "      <td>2018-12-31</td>\n",
       "      <td>11</td>\n",
       "      <td>12</td>\n",
       "      <td>0.0</td>\n",
       "      <td>0.0</td>\n",
       "      <td>0.0</td>\n",
       "      <td>0.0</td>\n",
       "      <td>...</td>\n",
       "      <td>0.0</td>\n",
       "      <td>0.0</td>\n",
       "      <td>0.0</td>\n",
       "      <td>1350.0</td>\n",
       "      <td>550.0</td>\n",
       "      <td>2</td>\n",
       "      <td>1900.0</td>\n",
       "      <td>950.000000</td>\n",
       "      <td>41</td>\n",
       "      <td>Москва</td>\n",
       "    </tr>\n",
       "    <tr>\n",
       "      <td>2</td>\n",
       "      <td>1002</td>\n",
       "      <td>smart</td>\n",
       "      <td>2018-06-17</td>\n",
       "      <td>2018-12-31</td>\n",
       "      <td>6</td>\n",
       "      <td>12</td>\n",
       "      <td>0.0</td>\n",
       "      <td>0.0</td>\n",
       "      <td>0.0</td>\n",
       "      <td>0.0</td>\n",
       "      <td>...</td>\n",
       "      <td>1550.0</td>\n",
       "      <td>950.0</td>\n",
       "      <td>550.0</td>\n",
       "      <td>1350.0</td>\n",
       "      <td>1150.0</td>\n",
       "      <td>7</td>\n",
       "      <td>7250.0</td>\n",
       "      <td>1035.714286</td>\n",
       "      <td>59</td>\n",
       "      <td>Стерлитамак</td>\n",
       "    </tr>\n",
       "    <tr>\n",
       "      <td>3</td>\n",
       "      <td>1003</td>\n",
       "      <td>ultra</td>\n",
       "      <td>2018-08-17</td>\n",
       "      <td>2018-12-31</td>\n",
       "      <td>8</td>\n",
       "      <td>12</td>\n",
       "      <td>0.0</td>\n",
       "      <td>0.0</td>\n",
       "      <td>0.0</td>\n",
       "      <td>0.0</td>\n",
       "      <td>...</td>\n",
       "      <td>1950.0</td>\n",
       "      <td>1950.0</td>\n",
       "      <td>1950.0</td>\n",
       "      <td>1950.0</td>\n",
       "      <td>1950.0</td>\n",
       "      <td>5</td>\n",
       "      <td>9750.0</td>\n",
       "      <td>1950.000000</td>\n",
       "      <td>23</td>\n",
       "      <td>Москва</td>\n",
       "    </tr>\n",
       "    <tr>\n",
       "      <td>4</td>\n",
       "      <td>1004</td>\n",
       "      <td>ultra</td>\n",
       "      <td>2018-05-14</td>\n",
       "      <td>2018-12-31</td>\n",
       "      <td>5</td>\n",
       "      <td>12</td>\n",
       "      <td>0.0</td>\n",
       "      <td>0.0</td>\n",
       "      <td>0.0</td>\n",
       "      <td>0.0</td>\n",
       "      <td>...</td>\n",
       "      <td>1950.0</td>\n",
       "      <td>1950.0</td>\n",
       "      <td>1950.0</td>\n",
       "      <td>1950.0</td>\n",
       "      <td>1950.0</td>\n",
       "      <td>8</td>\n",
       "      <td>15600.0</td>\n",
       "      <td>1950.000000</td>\n",
       "      <td>68</td>\n",
       "      <td>Новокузнецк</td>\n",
       "    </tr>\n",
       "  </tbody>\n",
       "</table>\n",
       "<p>5 rows × 23 columns</p>\n",
       "</div>"
      ],
      "text/plain": [
       "   user_id tariff   reg_date churn_date  month_begin  month_end    1    2  \\\n",
       "0     1000  ultra 2018-05-25 2018-12-31            5         12  0.0  0.0   \n",
       "1     1001  smart 2018-11-01 2018-12-31           11         12  0.0  0.0   \n",
       "2     1002  smart 2018-06-17 2018-12-31            6         12  0.0  0.0   \n",
       "3     1003  ultra 2018-08-17 2018-12-31            8         12  0.0  0.0   \n",
       "4     1004  ultra 2018-05-14 2018-12-31            5         12  0.0  0.0   \n",
       "\n",
       "     3    4  ...       8       9      10      11      12  months_use  \\\n",
       "0  0.0  0.0  ...  1950.0  1950.0  1950.0  1950.0  1950.0           8   \n",
       "1  0.0  0.0  ...     0.0     0.0     0.0  1350.0   550.0           2   \n",
       "2  0.0  0.0  ...  1550.0   950.0   550.0  1350.0  1150.0           7   \n",
       "3  0.0  0.0  ...  1950.0  1950.0  1950.0  1950.0  1950.0           5   \n",
       "4  0.0  0.0  ...  1950.0  1950.0  1950.0  1950.0  1950.0           8   \n",
       "\n",
       "   total_income  mean_income  age         city  \n",
       "0       15600.0  1950.000000   52    Краснодар  \n",
       "1        1900.0   950.000000   41       Москва  \n",
       "2        7250.0  1035.714286   59  Стерлитамак  \n",
       "3        9750.0  1950.000000   23       Москва  \n",
       "4       15600.0  1950.000000   68  Новокузнецк  \n",
       "\n",
       "[5 rows x 23 columns]"
      ]
     },
     "execution_count": 229,
     "metadata": {},
     "output_type": "execute_result"
    }
   ],
   "source": [
    "# Сколько месяцев пользуются тарифом\n",
    "tariff_stat['months_use'] = tariff_stat['month_end'] - tariff_stat['month_begin'] + 1\n",
    "# Общая выручка с пользователя\n",
    "tariff_stat['total_income'] = (tariff_stat[1] + tariff_stat[2] + tariff_stat[3] + + tariff_stat[4] +\n",
    "                                tariff_stat[5] + tariff_stat[6] + tariff_stat[7] + + tariff_stat[8] +\n",
    "                              tariff_stat[9] + tariff_stat[10] + tariff_stat[11] + + tariff_stat[12])\n",
    "# Среднемесячная выручка с пользователя\n",
    "tariff_stat['mean_income'] = tariff_stat['total_income'] / tariff_stat['months_use']\n",
    "\n",
    "# Подтянем все отсальные данные о пользователях\n",
    "tariff_stat = tariff_stat.merge(users[['user_id','age', 'city']], on= 'user_id', how= 'left')\n",
    "\n",
    "tariff_stat.head(5)"
   ]
  },
  {
   "cell_type": "code",
   "execution_count": 230,
   "metadata": {},
   "outputs": [
    {
     "data": {
      "text/html": [
       "<div>\n",
       "<style scoped>\n",
       "    .dataframe tbody tr th:only-of-type {\n",
       "        vertical-align: middle;\n",
       "    }\n",
       "\n",
       "    .dataframe tbody tr th {\n",
       "        vertical-align: top;\n",
       "    }\n",
       "\n",
       "    .dataframe thead th {\n",
       "        text-align: right;\n",
       "    }\n",
       "</style>\n",
       "<table border=\"1\" class=\"dataframe\">\n",
       "  <thead>\n",
       "    <tr style=\"text-align: right;\">\n",
       "      <th></th>\n",
       "      <th>smart</th>\n",
       "      <th>ultra</th>\n",
       "    </tr>\n",
       "  </thead>\n",
       "  <tbody>\n",
       "    <tr>\n",
       "      <td>1</td>\n",
       "      <td>24525.0</td>\n",
       "      <td>17550.0</td>\n",
       "    </tr>\n",
       "    <tr>\n",
       "      <td>2</td>\n",
       "      <td>48001.0</td>\n",
       "      <td>47400.0</td>\n",
       "    </tr>\n",
       "    <tr>\n",
       "      <td>3</td>\n",
       "      <td>89676.0</td>\n",
       "      <td>74550.0</td>\n",
       "    </tr>\n",
       "    <tr>\n",
       "      <td>4</td>\n",
       "      <td>107866.0</td>\n",
       "      <td>110100.0</td>\n",
       "    </tr>\n",
       "    <tr>\n",
       "      <td>5</td>\n",
       "      <td>169849.0</td>\n",
       "      <td>138150.0</td>\n",
       "    </tr>\n",
       "    <tr>\n",
       "      <td>6</td>\n",
       "      <td>198259.0</td>\n",
       "      <td>171450.0</td>\n",
       "    </tr>\n",
       "    <tr>\n",
       "      <td>7</td>\n",
       "      <td>247014.0</td>\n",
       "      <td>193050.0</td>\n",
       "    </tr>\n",
       "    <tr>\n",
       "      <td>8</td>\n",
       "      <td>312340.0</td>\n",
       "      <td>222900.0</td>\n",
       "    </tr>\n",
       "    <tr>\n",
       "      <td>9</td>\n",
       "      <td>326386.0</td>\n",
       "      <td>232800.0</td>\n",
       "    </tr>\n",
       "    <tr>\n",
       "      <td>10</td>\n",
       "      <td>402667.0</td>\n",
       "      <td>254250.0</td>\n",
       "    </tr>\n",
       "    <tr>\n",
       "      <td>11</td>\n",
       "      <td>425803.0</td>\n",
       "      <td>280500.0</td>\n",
       "    </tr>\n",
       "    <tr>\n",
       "      <td>12</td>\n",
       "      <td>533915.0</td>\n",
       "      <td>299250.0</td>\n",
       "    </tr>\n",
       "  </tbody>\n",
       "</table>\n",
       "</div>"
      ],
      "text/plain": [
       "       smart     ultra\n",
       "1    24525.0   17550.0\n",
       "2    48001.0   47400.0\n",
       "3    89676.0   74550.0\n",
       "4   107866.0  110100.0\n",
       "5   169849.0  138150.0\n",
       "6   198259.0  171450.0\n",
       "7   247014.0  193050.0\n",
       "8   312340.0  222900.0\n",
       "9   326386.0  232800.0\n",
       "10  402667.0  254250.0\n",
       "11  425803.0  280500.0\n",
       "12  533915.0  299250.0"
      ]
     },
     "metadata": {},
     "output_type": "display_data"
    }
   ],
   "source": [
    "# Суммарные помесяные доходы по тарифамм \n",
    "s = tariff_stat[['tariff',1,2,3,4,5,6,7,8,9,10,11,12]] \\\n",
    "    .query('tariff == \"smart\"') \\\n",
    "    .groupby('tariff').agg('sum') \\\n",
    "    .reset_index()\n",
    "\n",
    "s.drop('tariff', axis=1, inplace=True)\n",
    "s_revenue = s.iloc[0,:]\n",
    "\n",
    "u = tariff_stat[['tariff',1,2,3,4,5,6,7,8,9,10,11,12]] \\\n",
    "    .query('tariff == \"ultra\"') \\\n",
    "    .groupby('tariff').agg('sum') \\\n",
    "    .reset_index()\n",
    "\n",
    "u.drop('tariff', axis=1, inplace=True)\n",
    "u_revenue = u.iloc[0,:]\n",
    "\n",
    "sum_revenue = pd.DataFrame(columns= ['smart', 'ultra'], data= [])\n",
    "sum_revenue['smart'] = s_revenue\n",
    "sum_revenue['ultra'] = u_revenue\n",
    "display(sum_revenue)"
   ]
  },
  {
   "cell_type": "markdown",
   "metadata": {},
   "source": [
    "Динамика суммарного дохода по тарифам"
   ]
  },
  {
   "cell_type": "code",
   "execution_count": 249,
   "metadata": {},
   "outputs": [
    {
     "data": {
      "image/png": "[encoded data removed]",
      "text/plain": [
       "<Figure size 216x288 with 1 Axes>"
      ]
     },
     "metadata": {
      "needs_background": "light"
     },
     "output_type": "display_data"
    }
   ],
   "source": [
    "sum_revenue['smart'].plot(style='-', y= 'smart', grid=True, figsize=(3, 4), label= 'smart', legend=True)\n",
    "sum_revenue['ultra'].plot(style='-', y='ultra', grid=True, figsize=(3, 4), label='ultra', legend=True)\n",
    "plt.xticks([1,2,3,4,5,6,7,8,9,10,11,12])\n",
    "plt.title(\"Динамика суммарного дохода по месяцам\")\n",
    "plt.xlabel(\"месяц\")\n",
    "plt.ylabel(\"Руб.\")\n",
    "plt.show()"
   ]
  },
  {
   "cell_type": "markdown",
   "metadata": {},
   "source": [
    "Если в начале года тарифы приносили примено одинаковый доход, то к концу года тариф smartнабирает обороты, а ultra теряет скорость роста."
   ]
  },
  {
   "cell_type": "markdown",
   "metadata": {},
   "source": [
    "Сравним выручку тарифных планов Smart и Ulrta за весь год."
   ]
  },
  {
   "cell_type": "code",
   "execution_count": 257,
   "metadata": {},
   "outputs": [
    {
     "data": {
      "image/png": "[encoded data removed]",
      "text/plain": [
       "<Figure size 216x288 with 1 Axes>"
      ]
     },
     "metadata": {
      "needs_background": "light"
     },
     "output_type": "display_data"
    }
   ],
   "source": [
    "# Выручка от тарифного плана\n",
    "(tariff_stat\n",
    "     .pivot_table(index='tariff', values='total_income', aggfunc='sum')\n",
    "     .plot(kind='bar', y='total_income', grid=True, figsize=(3, 4), label='Суммарный доход тарифа', ylim= [0,3500000])\n",
    ")\n",
    "plt.title(\"Суммарный доход\")\n",
    "plt.xlabel(\"Тарифный план\")\n",
    "plt.ylabel(\"Руб.\")\n",
    "plt.show()"
   ]
  },
  {
   "cell_type": "markdown",
   "metadata": {},
   "source": [
    "Пользователи тарифа Smart приносят больше денег. Но это зависит и от количества пользователей.\n",
    "\n",
    "Посмотрим сколько в среднем приносит пользователь того или иного тарифа."
   ]
  },
  {
   "cell_type": "code",
   "execution_count": 260,
   "metadata": {},
   "outputs": [
    {
     "data": {
      "image/png": "[encoded data removed]",
      "text/plain": [
       "<Figure size 216x288 with 1 Axes>"
      ]
     },
     "metadata": {
      "needs_background": "light"
     },
     "output_type": "display_data"
    }
   ],
   "source": [
    "# Средняя выручка от тарифного плана\n",
    "(tariff_stat\n",
    "     .pivot_table(index='tariff', values='mean_income', aggfunc='mean')\n",
    "     .plot(kind='bar', y='mean_income', grid=True, figsize=(3, 4), label='Средняя выручка', ylim= [0, 2400])\n",
    ")\n",
    "plt.title(\"Средняя выручка\")\n",
    "plt.xlabel(\"Тарифный план\")\n",
    "plt.ylabel(\"Руб.\")\n",
    "plt.show()"
   ]
  },
  {
   "cell_type": "markdown",
   "metadata": {},
   "source": [
    "Больший средний доход приносит тарифный план \"Ultra'. Но суммарный доход от тарифного плана Smart существенно выше, что говорит о том, что доля клиентов с тарифом Ultra значительно меньше."
   ]
  },
  {
   "cell_type": "markdown",
   "metadata": {},
   "source": [
    "Средний доход от клиента выше абонентской платы. Это значит, что на доход влияет не только абонентская плата но и перерасход стандартного пакета.\n",
    "\n",
    "Чтобы посмотреть как влияет выбранный тарифный план на потребление услуг, посмотрим средние и стандартное отклоенение.\n",
    "\n",
    "Посчитаем среднее и дисперсию, стандартное отклонение минут разговора по тарифам."
   ]
  },
  {
   "cell_type": "code",
   "execution_count": 261,
   "metadata": {},
   "outputs": [
    {
     "data": {
      "text/html": [
       "<div>\n",
       "<style scoped>\n",
       "    .dataframe tbody tr th:only-of-type {\n",
       "        vertical-align: middle;\n",
       "    }\n",
       "\n",
       "    .dataframe tbody tr th {\n",
       "        vertical-align: top;\n",
       "    }\n",
       "\n",
       "    .dataframe thead th {\n",
       "        text-align: right;\n",
       "    }\n",
       "</style>\n",
       "<table border=\"1\" class=\"dataframe\">\n",
       "  <thead>\n",
       "    <tr style=\"text-align: right;\">\n",
       "      <th></th>\n",
       "      <th>tariff</th>\n",
       "      <th>mean</th>\n",
       "      <th>dispersion</th>\n",
       "      <th>std</th>\n",
       "    </tr>\n",
       "  </thead>\n",
       "  <tbody>\n",
       "    <tr>\n",
       "      <td>0</td>\n",
       "      <td>smart</td>\n",
       "      <td>419.062978</td>\n",
       "      <td>35844.189551</td>\n",
       "      <td>189.325618</td>\n",
       "    </tr>\n",
       "    <tr>\n",
       "      <td>1</td>\n",
       "      <td>ultra</td>\n",
       "      <td>545.451104</td>\n",
       "      <td>94203.418396</td>\n",
       "      <td>306.925754</td>\n",
       "    </tr>\n",
       "  </tbody>\n",
       "</table>\n",
       "</div>"
      ],
      "text/plain": [
       "  tariff        mean    dispersion         std\n",
       "0  smart  419.062978  35844.189551  189.325618\n",
       "1  ultra  545.451104  94203.418396  306.925754"
      ]
     },
     "execution_count": 261,
     "metadata": {},
     "output_type": "execute_result"
    }
   ],
   "source": [
    "call_stat = months_stat.groupby('tariff')['duration'] \\\n",
    "            .agg({'mean','var'}) \\\n",
    "            .rename(columns={'mean':'mean', 'var':'dispersion'}) \\\n",
    "            .reset_index()\n",
    "call_stat['std'] = np.sqrt(call_stat['dispersion'])\n",
    "call_stat"
   ]
  },
  {
   "cell_type": "markdown",
   "metadata": {},
   "source": [
    "В тарифнм плане Smart включено 500 минут. А среднее - 419 минут. Это говорит о том, что не все пользователи укладываются в пакет минут.\n",
    "\n",
    "В тарифном плане Ultra включено 3000 минут. А среднее - 545 минут. Это говорит о том, что пакета минут хватает с избытком."
   ]
  },
  {
   "cell_type": "markdown",
   "metadata": {},
   "source": [
    "Посчитаем среднее и дисперсию, стандартное отклонение сообщений по тарифам."
   ]
  },
  {
   "cell_type": "code",
   "execution_count": 262,
   "metadata": {},
   "outputs": [
    {
     "data": {
      "text/html": [
       "<div>\n",
       "<style scoped>\n",
       "    .dataframe tbody tr th:only-of-type {\n",
       "        vertical-align: middle;\n",
       "    }\n",
       "\n",
       "    .dataframe tbody tr th {\n",
       "        vertical-align: top;\n",
       "    }\n",
       "\n",
       "    .dataframe thead th {\n",
       "        text-align: right;\n",
       "    }\n",
       "</style>\n",
       "<table border=\"1\" class=\"dataframe\">\n",
       "  <thead>\n",
       "    <tr style=\"text-align: right;\">\n",
       "      <th></th>\n",
       "      <th>tariff</th>\n",
       "      <th>mean</th>\n",
       "      <th>dispersion</th>\n",
       "      <th>std</th>\n",
       "    </tr>\n",
       "  </thead>\n",
       "  <tbody>\n",
       "    <tr>\n",
       "      <td>0</td>\n",
       "      <td>smart</td>\n",
       "      <td>38.716441</td>\n",
       "      <td>717.594201</td>\n",
       "      <td>26.787949</td>\n",
       "    </tr>\n",
       "    <tr>\n",
       "      <td>1</td>\n",
       "      <td>ultra</td>\n",
       "      <td>61.161006</td>\n",
       "      <td>2109.659183</td>\n",
       "      <td>45.931026</td>\n",
       "    </tr>\n",
       "  </tbody>\n",
       "</table>\n",
       "</div>"
      ],
      "text/plain": [
       "  tariff       mean   dispersion        std\n",
       "0  smart  38.716441   717.594201  26.787949\n",
       "1  ultra  61.161006  2109.659183  45.931026"
      ]
     },
     "execution_count": 262,
     "metadata": {},
     "output_type": "execute_result"
    }
   ],
   "source": [
    "messages_stat = months_stat.groupby('tariff')['messages'] \\\n",
    "            .agg({'mean','var'}) \\\n",
    "            .rename(columns={'mean':'mean', 'var':'dispersion'}) \\\n",
    "            .reset_index()\n",
    "messages_stat['std'] = np.sqrt(messages_stat['dispersion'])\n",
    "messages_stat"
   ]
  },
  {
   "cell_type": "markdown",
   "metadata": {},
   "source": [
    "Посчитаем среднее и дисперсию, стандартное отклонение траффика интернета по тарифам."
   ]
  },
  {
   "cell_type": "code",
   "execution_count": 263,
   "metadata": {},
   "outputs": [
    {
     "data": {
      "text/html": [
       "<div>\n",
       "<style scoped>\n",
       "    .dataframe tbody tr th:only-of-type {\n",
       "        vertical-align: middle;\n",
       "    }\n",
       "\n",
       "    .dataframe tbody tr th {\n",
       "        vertical-align: top;\n",
       "    }\n",
       "\n",
       "    .dataframe thead th {\n",
       "        text-align: right;\n",
       "    }\n",
       "</style>\n",
       "<table border=\"1\" class=\"dataframe\">\n",
       "  <thead>\n",
       "    <tr style=\"text-align: right;\">\n",
       "      <th></th>\n",
       "      <th>tariff</th>\n",
       "      <th>mean</th>\n",
       "      <th>dispersion</th>\n",
       "      <th>std</th>\n",
       "    </tr>\n",
       "  </thead>\n",
       "  <tbody>\n",
       "    <tr>\n",
       "      <td>0</td>\n",
       "      <td>smart</td>\n",
       "      <td>16236.472621</td>\n",
       "      <td>3.444310e+07</td>\n",
       "      <td>5868.824472</td>\n",
       "    </tr>\n",
       "    <tr>\n",
       "      <td>1</td>\n",
       "      <td>ultra</td>\n",
       "      <td>19686.767179</td>\n",
       "      <td>9.904344e+07</td>\n",
       "      <td>9952.057054</td>\n",
       "    </tr>\n",
       "  </tbody>\n",
       "</table>\n",
       "</div>"
      ],
      "text/plain": [
       "  tariff          mean    dispersion          std\n",
       "0  smart  16236.472621  3.444310e+07  5868.824472\n",
       "1  ultra  19686.767179  9.904344e+07  9952.057054"
      ]
     },
     "execution_count": 263,
     "metadata": {},
     "output_type": "execute_result"
    }
   ],
   "source": [
    "internet_stat = months_stat.groupby('tariff')['mb_used'] \\\n",
    "            .agg({'mean','var'}) \\\n",
    "            .rename(columns={'mean':'mean', 'var':'dispersion'}) \\\n",
    "            .reset_index()\n",
    "internet_stat['std'] = np.sqrt(internet_stat['dispersion'])\n",
    "internet_stat"
   ]
  },
  {
   "cell_type": "markdown",
   "metadata": {},
   "source": [
    "Среднее\n"
   ]
  },
  {
   "cell_type": "markdown",
   "metadata": {},
   "source": [
    "Превышения тарифов у нас сохранились в months_stat, поэтому можем посмотреть превышения графически.\n",
    "\n",
    "**Тариф SMART**\n",
    "\n",
    "Минуты разговора - превышение тарифа"
   ]
  },
  {
   "cell_type": "code",
   "execution_count": 265,
   "metadata": {},
   "outputs": [
    {
     "data": {
      "image/png": "[encoded data removed]",
      "text/plain": [
       "<Figure size 504x288 with 1 Axes>"
      ]
     },
     "metadata": {
      "needs_background": "light"
     },
     "output_type": "display_data"
    }
   ],
   "source": [
    "months_stat.query('tariff == \"smart\"') \\\n",
    "        .pivot_table(index='month', values= 'calls_over_tax', aggfunc='mean') \\\n",
    "        .plot(style='o-', legend=True, grid=True, figsize=(7, 4), label='Среднее превышение')\n",
    "plt.title(\"Минуты разговора - Среднее превышение тарифа\")\n",
    "plt.xticks([1,2,3,4,5,6,7,8,9,10,11,12])\n",
    "plt.xlabel(\"Месяц\")\n",
    "plt.ylabel(\"Руб.\")\n",
    "plt.show()"
   ]
  },
  {
   "cell_type": "markdown",
   "metadata": {},
   "source": [
    "Сообщения - превышение тарифа"
   ]
  },
  {
   "cell_type": "code",
   "execution_count": 266,
   "metadata": {},
   "outputs": [
    {
     "data": {
      "image/png": "[encoded data removed]",
      "text/plain": [
       "<Figure size 504x288 with 1 Axes>"
      ]
     },
     "metadata": {
      "needs_background": "light"
     },
     "output_type": "display_data"
    }
   ],
   "source": [
    "months_stat.query('tariff == \"smart\"') \\\n",
    "        .pivot_table(index='month', values= 'mess_over_tax', aggfunc='mean') \\\n",
    "        .plot(style='o-', legend=True, grid=True, figsize=(7, 4), label='Среднее превышение')\n",
    "plt.title(\"Сообщения - Среднее превышение тарифа\")\n",
    "plt.xticks([1,2,3,4,5,6,7,8,9,10,11,12])\n",
    "plt.xlabel(\"Месяц\")\n",
    "plt.ylabel(\"Руб.\")\n",
    "plt.show()"
   ]
  },
  {
   "cell_type": "markdown",
   "metadata": {},
   "source": [
    "Кол-во сообщений по месяцам"
   ]
  },
  {
   "cell_type": "code",
   "execution_count": 269,
   "metadata": {},
   "outputs": [
    {
     "data": {
      "image/png": "[encoded data removed]",
      "text/plain": [
       "<Figure size 504x288 with 1 Axes>"
      ]
     },
     "metadata": {
      "needs_background": "light"
     },
     "output_type": "display_data"
    }
   ],
   "source": [
    "months_stat.query('tariff == \"smart\"') \\\n",
    "        .pivot_table(index='month', values= 'user_id', aggfunc='count') \\\n",
    "        .plot(style='o-', legend=True, grid=True, figsize=(7, 4), label='Количество сообщений')\n",
    "plt.title(\"Количество сообщений по месяцам\")\n",
    "plt.xticks([1,2,3,4,5,6,7,8,9,10,11,12])\n",
    "plt.xlabel(\"Месяц\")\n",
    "plt.ylabel(\"Количество сообщений\")\n",
    "plt.show()"
   ]
  },
  {
   "cell_type": "markdown",
   "metadata": {},
   "source": [
    "Интернет  - превышение тарифа"
   ]
  },
  {
   "cell_type": "code",
   "execution_count": 270,
   "metadata": {},
   "outputs": [
    {
     "data": {
      "image/png": "[encoded data removed]",
      "text/plain": [
       "<Figure size 504x288 with 1 Axes>"
      ]
     },
     "metadata": {
      "needs_background": "light"
     },
     "output_type": "display_data"
    }
   ],
   "source": [
    "months_stat.query('tariff == \"smart\"') \\\n",
    "        .pivot_table(index='month', values= 'mb_over_tax', aggfunc='mean') \\\n",
    "        .plot(style='o-', legend=True, grid=True, figsize=(7, 4), label='Среднее превышение')\n",
    "plt.title(\"Интернет - Среднее превышение тарифа\")\n",
    "plt.xticks([1,2,3,4,5,6,7,8,9,10,11,12])\n",
    "plt.xlabel(\"Месяц\")\n",
    "plt.ylabel(\"Руб.\")\n",
    "plt.show()"
   ]
  },
  {
   "cell_type": "markdown",
   "metadata": {},
   "source": [
    "Пользователи тарифа smart приносят доход сверх абонентской платы за счет превышения минут, количества сообщений и трафика интернета. Причем, количество услуг сверх тарифа увеличивается, но не такими темпами, как прирост клиентов.\n",
    "\n",
    "Это может указывать на то, что потребности пользователей выше тарифа. В условиях конкуренции пользователи могут уходить на более соответствующие их потребностям тарифы."
   ]
  },
  {
   "cell_type": "markdown",
   "metadata": {},
   "source": [
    "**Тариф ULTRA**\n",
    "\n",
    "Минуты разговора  - превышение тарифа"
   ]
  },
  {
   "cell_type": "code",
   "execution_count": 271,
   "metadata": {},
   "outputs": [
    {
     "data": {
      "image/png": "[encoded data removed]",
      "text/plain": [
       "<Figure size 504x288 with 1 Axes>"
      ]
     },
     "metadata": {
      "needs_background": "light"
     },
     "output_type": "display_data"
    }
   ],
   "source": [
    "months_stat.query('tariff == \"ultra\"') \\\n",
    "        .pivot_table(index='month', values= 'calls_over_tax', aggfunc='mean') \\\n",
    "        .plot(style='o-', legend=True, grid=True, figsize=(7, 4), label='Среднее превышение')\n",
    "plt.title(\"Минуты разговора - Среднее превышение тарифа\")\n",
    "plt.xticks([1,2,3,4,5,6,7,8,9,10,11,12])\n",
    "plt.xlabel(\"Месяц\")\n",
    "plt.ylabel(\"Руб.\")\n",
    "plt.show()"
   ]
  },
  {
   "cell_type": "markdown",
   "metadata": {},
   "source": [
    "Сообщения  - превышение тарифа"
   ]
  },
  {
   "cell_type": "code",
   "execution_count": 272,
   "metadata": {},
   "outputs": [
    {
     "data": {
      "image/png": "[encoded data removed]",
      "text/plain": [
       "<Figure size 504x288 with 1 Axes>"
      ]
     },
     "metadata": {
      "needs_background": "light"
     },
     "output_type": "display_data"
    }
   ],
   "source": [
    "months_stat.query('tariff == \"ultra\"') \\\n",
    "        .pivot_table(index='month', values= 'mess_over_tax', aggfunc='mean') \\\n",
    "        .plot(style='o-', legend=True, grid=True, figsize=(7, 4), label='Среднее превышение')\n",
    "plt.title(\"Сообщения - Среднее превышение тарифа\")\n",
    "plt.xticks([1,2,3,4,5,6,7,8,9,10,11,12])\n",
    "plt.xlabel(\"Месяц\")\n",
    "plt.ylabel(\"Руб.\")\n",
    "plt.show()"
   ]
  },
  {
   "cell_type": "markdown",
   "metadata": {},
   "source": [
    "Интернет  - превышение тарифа"
   ]
  },
  {
   "cell_type": "code",
   "execution_count": 273,
   "metadata": {},
   "outputs": [
    {
     "data": {
      "image/png": "[encoded data removed]",
      "text/plain": [
       "<Figure size 504x288 with 1 Axes>"
      ]
     },
     "metadata": {
      "needs_background": "light"
     },
     "output_type": "display_data"
    }
   ],
   "source": [
    "months_stat.query('tariff == \"ultra\"') \\\n",
    "        .pivot_table(index='month', values= 'mb_over_tax', aggfunc='mean') \\\n",
    "        .plot(style='o-', legend=True, grid=True, figsize=(7, 4), label='Среднее превышение')\n",
    "plt.title(\"Интернет - Среднее превышение тарифа\")\n",
    "plt.xticks([1,2,3,4,5,6,7,8,9,10,11,12])\n",
    "plt.xlabel(\"Месяц\")\n",
    "plt.ylabel(\"Руб.\")\n",
    "plt.show()"
   ]
  },
  {
   "cell_type": "markdown",
   "metadata": {},
   "source": [
    "Пользователи тарифа utra явно не используют весь пакет минут разговора и сообщений, но вынуждены доплачивать за интернет-трафик."
   ]
  },
  {
   "cell_type": "markdown",
   "metadata": {},
   "source": [
    "**Возрастные группы** в тарифе **smart**"
   ]
  },
  {
   "cell_type": "markdown",
   "metadata": {},
   "source": [
    "Количество пользователей от возраста"
   ]
  },
  {
   "cell_type": "code",
   "execution_count": 282,
   "metadata": {},
   "outputs": [
    {
     "data": {
      "image/png": "[encoded data removed]",
      "text/plain": [
       "<Figure size 432x288 with 1 Axes>"
      ]
     },
     "metadata": {
      "needs_background": "light"
     },
     "output_type": "display_data"
    }
   ],
   "source": [
    "tariff_stat.query('tariff == \"smart\"') \\\n",
    "    .plot(kind='hist', y='age', histtype='step',\n",
    "    bins=15, label='Кол-во пользователей', grid=True, legend=False, ylim= [0,30])\n",
    "plt.title(\"Количество пользователей от возраста\")\n",
    "plt.xlabel(\"Возраст\")\n",
    "plt.ylabel(\"Количество пользователей\")\n",
    "plt.show()"
   ]
  },
  {
   "cell_type": "markdown",
   "metadata": {},
   "source": [
    "Возрастные гуппы в тарифе ultra"
   ]
  },
  {
   "cell_type": "code",
   "execution_count": 283,
   "metadata": {},
   "outputs": [
    {
     "data": {
      "image/png": "[encoded data removed]",
      "text/plain": [
       "<Figure size 432x288 with 1 Axes>"
      ]
     },
     "metadata": {
      "needs_background": "light"
     },
     "output_type": "display_data"
    }
   ],
   "source": [
    "tariff_stat.query('tariff == \"ultra\"').plot(kind='hist', y='age', histtype='step',\n",
    "          bins=15, label='Число пользователей', grid=True, legend=False, ylim= [0,30])\n",
    "plt.title(\"Количество пользователей от возраста\")\n",
    "plt.xlabel(\"Возраст\")\n",
    "plt.ylabel(\"Количество пользователей\")\n",
    "plt.show()"
   ]
  },
  {
   "cell_type": "markdown",
   "metadata": {},
   "source": [
    "Доход по возрастной группе"
   ]
  },
  {
   "cell_type": "code",
   "execution_count": 287,
   "metadata": {},
   "outputs": [
    {
     "data": {
      "image/png": "[encoded data removed]",
      "text/plain": [
       "<Figure size 432x288 with 1 Axes>"
      ]
     },
     "metadata": {
      "needs_background": "light"
     },
     "output_type": "display_data"
    }
   ],
   "source": [
    "tariff_stat.query('tariff == \"smart\"').plot(x='age', y='mean_income', kind='scatter', ylim= [400,4500])\n",
    "plt.title(\"Доход от пользователя по возрасту\")\n",
    "plt.xlabel(\"Возраст\")\n",
    "plt.ylabel(\"Руб.\")\n",
    "plt.show()"
   ]
  },
  {
   "cell_type": "code",
   "execution_count": 288,
   "metadata": {},
   "outputs": [
    {
     "data": {
      "image/png": "[encoded data removed]",
      "text/plain": [
       "<Figure size 432x288 with 1 Axes>"
      ]
     },
     "metadata": {
      "needs_background": "light"
     },
     "output_type": "display_data"
    }
   ],
   "source": [
    "tariff_stat.query('tariff == \"ultra\"').plot(x='age', y='mean_income', kind='scatter', ylim= [400,4500])\n",
    "plt.title(\"Доход от пользователя по возрасту\")\n",
    "plt.xlabel(\"Возраст\")\n",
    "plt.ylabel(\"Руб.\")\n",
    "plt.show()"
   ]
  },
  {
   "cell_type": "markdown",
   "metadata": {},
   "source": [
    "По возрастным группам не выделяется каких-то существенно отличающихся групп.\n",
    "\n",
    "Распределение дохода от пользователя в тарифе ultra показывает графически, что пользователи в основном, приносят доход в рамках тарифного плана."
   ]
  },
  {
   "cell_type": "code",
   "execution_count": 316,
   "metadata": {},
   "outputs": [
    {
     "data": {
      "image/png": "[encoded data removed]",
      "text/plain": [
       "<Figure size 432x288 with 1 Axes>"
      ]
     },
     "metadata": {
      "needs_background": "light"
     },
     "output_type": "display_data"
    }
   ],
   "source": [
    "months_stat.query('tariff == \"smart\"') \\\n",
    "    .plot(kind= 'hist', y= 'duration', bins= 50, legend= False, ylim= [0,140], xlim= [0,1500])\n",
    "plt.title(\"Распределение длительности разговора - smart\")\n",
    "plt.xlabel(\"Минуты разговора\")\n",
    "plt.ylabel(\"Количество звонков\")\n",
    "plt.show()"
   ]
  },
  {
   "cell_type": "code",
   "execution_count": 317,
   "metadata": {},
   "outputs": [
    {
     "data": {
      "image/png": "[encoded data removed]",
      "text/plain": [
       "<Figure size 432x288 with 1 Axes>"
      ]
     },
     "metadata": {
      "needs_background": "light"
     },
     "output_type": "display_data"
    }
   ],
   "source": [
    "months_stat.query('tariff == \"ultra\"') \\\n",
    "    .plot(kind= 'hist', y= 'duration', bins= 50, legend= False, ylim= [0,140], xlim= [0,1500])\n",
    "plt.title(\"Распределение длительности разговора - ultra\")\n",
    "plt.xlabel(\"Минуты разговора\")\n",
    "plt.ylabel(\"Количество звонков\")\n",
    "plt.show()"
   ]
  },
  {
   "cell_type": "code",
   "execution_count": 297,
   "metadata": {},
   "outputs": [
    {
     "data": {
      "text/html": [
       "<div>\n",
       "<style scoped>\n",
       "    .dataframe tbody tr th:only-of-type {\n",
       "        vertical-align: middle;\n",
       "    }\n",
       "\n",
       "    .dataframe tbody tr th {\n",
       "        vertical-align: top;\n",
       "    }\n",
       "\n",
       "    .dataframe thead th {\n",
       "        text-align: right;\n",
       "    }\n",
       "</style>\n",
       "<table border=\"1\" class=\"dataframe\">\n",
       "  <thead>\n",
       "    <tr style=\"text-align: right;\">\n",
       "      <th></th>\n",
       "      <th>tariff</th>\n",
       "      <th>mean</th>\n",
       "      <th>dispersion</th>\n",
       "      <th>std</th>\n",
       "    </tr>\n",
       "  </thead>\n",
       "  <tbody>\n",
       "    <tr>\n",
       "      <td>0</td>\n",
       "      <td>smart</td>\n",
       "      <td>419.062978</td>\n",
       "      <td>35844.189551</td>\n",
       "      <td>189.325618</td>\n",
       "    </tr>\n",
       "    <tr>\n",
       "      <td>1</td>\n",
       "      <td>ultra</td>\n",
       "      <td>545.451104</td>\n",
       "      <td>94203.418396</td>\n",
       "      <td>306.925754</td>\n",
       "    </tr>\n",
       "  </tbody>\n",
       "</table>\n",
       "</div>"
      ],
      "text/plain": [
       "  tariff        mean    dispersion         std\n",
       "0  smart  419.062978  35844.189551  189.325618\n",
       "1  ultra  545.451104  94203.418396  306.925754"
      ]
     },
     "execution_count": 297,
     "metadata": {},
     "output_type": "execute_result"
    }
   ],
   "source": [
    "call_stat"
   ]
  },
  {
   "cell_type": "markdown",
   "metadata": {},
   "source": [
    "<font style=\"color:purple\">\n",
    "В обоих случаях вид распределения Пуассоновский (стремящийся к нормальному).\n",
    "\n",
    "Тариф Smart - характерен меньший разброс. Пользователи выбрали путь экономии. Но стандартного пакета им не хватает, т.к. среднее больше пакета.\n",
    "    \n",
    "Выбор тарифа Ultra позволяет пользователям не заботится о длительности звонка, поэтому разброс больше. Заметна существенная разница в количестве клиентов разговаривающих более 1000 минут в месяц.\n",
    "    \n",
    "2. Распределение количества сообщений.\n",
    "</font>    "
   ]
  },
  {
   "cell_type": "code",
   "execution_count": 318,
   "metadata": {},
   "outputs": [
    {
     "data": {
      "image/png": "[encoded data removed]",
      "text/plain": [
       "<Figure size 432x288 with 1 Axes>"
      ]
     },
     "metadata": {
      "needs_background": "light"
     },
     "output_type": "display_data"
    }
   ],
   "source": [
    "months_stat.query('tariff == \"smart\"') \\\n",
    "    .plot(kind= 'hist', y= 'messages', bins= 70, legend= False, ylim= [0,80], xlim= [0,250])\n",
    "plt.title(\"Распределение количества сообщений - smart\")\n",
    "plt.xlabel(\"Количество сообщений\")\n",
    "plt.ylabel(\"Количество пользователей\")\n",
    "plt.show()"
   ]
  },
  {
   "cell_type": "code",
   "execution_count": 319,
   "metadata": {},
   "outputs": [
    {
     "data": {
      "image/png": "[encoded data removed]",
      "text/plain": [
       "<Figure size 432x288 with 1 Axes>"
      ]
     },
     "metadata": {
      "needs_background": "light"
     },
     "output_type": "display_data"
    }
   ],
   "source": [
    "months_stat.query('tariff == \"ultra\"') \\\n",
    "    .plot(kind= 'hist', y= 'messages', bins= 70, legend= False, ylim= [0,80], xlim= [0,250])\n",
    "plt.title(\"Распределение количества сообщений - ultra\")\n",
    "plt.xlabel(\"Количество сообщений\")\n",
    "plt.ylabel(\"Количество пользователей\")\n",
    "plt.show()"
   ]
  },
  {
   "cell_type": "code",
   "execution_count": 311,
   "metadata": {},
   "outputs": [
    {
     "data": {
      "text/html": [
       "<div>\n",
       "<style scoped>\n",
       "    .dataframe tbody tr th:only-of-type {\n",
       "        vertical-align: middle;\n",
       "    }\n",
       "\n",
       "    .dataframe tbody tr th {\n",
       "        vertical-align: top;\n",
       "    }\n",
       "\n",
       "    .dataframe thead th {\n",
       "        text-align: right;\n",
       "    }\n",
       "</style>\n",
       "<table border=\"1\" class=\"dataframe\">\n",
       "  <thead>\n",
       "    <tr style=\"text-align: right;\">\n",
       "      <th></th>\n",
       "      <th>tariff</th>\n",
       "      <th>mean</th>\n",
       "      <th>dispersion</th>\n",
       "      <th>std</th>\n",
       "    </tr>\n",
       "  </thead>\n",
       "  <tbody>\n",
       "    <tr>\n",
       "      <td>0</td>\n",
       "      <td>smart</td>\n",
       "      <td>38.716441</td>\n",
       "      <td>717.594201</td>\n",
       "      <td>26.787949</td>\n",
       "    </tr>\n",
       "    <tr>\n",
       "      <td>1</td>\n",
       "      <td>ultra</td>\n",
       "      <td>61.161006</td>\n",
       "      <td>2109.659183</td>\n",
       "      <td>45.931026</td>\n",
       "    </tr>\n",
       "  </tbody>\n",
       "</table>\n",
       "</div>"
      ],
      "text/plain": [
       "  tariff       mean   dispersion        std\n",
       "0  smart  38.716441   717.594201  26.787949\n",
       "1  ultra  61.161006  2109.659183  45.931026"
      ]
     },
     "execution_count": 311,
     "metadata": {},
     "output_type": "execute_result"
    }
   ],
   "source": [
    "messages_stat"
   ]
  },
  {
   "cell_type": "markdown",
   "metadata": {},
   "source": [
    "<font style=\"color:purple\">\n",
    "В обоих случаях вид распределения можно назвать Пуассоновским (с длинным хвостом).\n",
    "    \n",
    "Здесь также заметно, что в тарифном плане ultra пользователи отправляют больше число собщений,но до пакетных 1000 очень далеко.\n",
    "\n",
    "    \n",
    "3. Распределение траффика интернет.\n",
    "</font>    "
   ]
  },
  {
   "cell_type": "code",
   "execution_count": 323,
   "metadata": {},
   "outputs": [
    {
     "data": {
      "image/png": "[encoded data removed]",
      "text/plain": [
       "<Figure size 432x288 with 1 Axes>"
      ]
     },
     "metadata": {
      "needs_background": "light"
     },
     "output_type": "display_data"
    }
   ],
   "source": [
    "months_stat.query('tariff == \"smart\"') \\\n",
    "    .plot(kind= 'hist', y= 'mb_used', bins= 50, legend= False, ylim= [0,150], xlim= [0,50000])\n",
    "plt.title(\"Распределение трафика интернет - smart\")\n",
    "plt.xlabel(\"Потребленный трафик, МБ\")\n",
    "plt.ylabel(\"Количество пользователей\")\n",
    "plt.show()"
   ]
  },
  {
   "cell_type": "code",
   "execution_count": 322,
   "metadata": {},
   "outputs": [
    {
     "data": {
      "image/png": "[encoded data removed]",
      "text/plain": [
       "<Figure size 432x288 with 1 Axes>"
      ]
     },
     "metadata": {
      "needs_background": "light"
     },
     "output_type": "display_data"
    }
   ],
   "source": [
    "months_stat.query('tariff == \"ultra\"') \\\n",
    "    .plot(kind= 'hist', y= 'mb_used', bins= 50, legend= False, ylim= [0,150], xlim= [0,50000])\n",
    "plt.title(\"Распределение трафика интернет - ultra\")\n",
    "plt.xlabel(\"Потребленный трафик, МБ\")\n",
    "plt.ylabel(\"Количество пользователей\")\n",
    "plt.show()"
   ]
  },
  {
   "cell_type": "code",
   "execution_count": 324,
   "metadata": {},
   "outputs": [
    {
     "data": {
      "text/html": [
       "<div>\n",
       "<style scoped>\n",
       "    .dataframe tbody tr th:only-of-type {\n",
       "        vertical-align: middle;\n",
       "    }\n",
       "\n",
       "    .dataframe tbody tr th {\n",
       "        vertical-align: top;\n",
       "    }\n",
       "\n",
       "    .dataframe thead th {\n",
       "        text-align: right;\n",
       "    }\n",
       "</style>\n",
       "<table border=\"1\" class=\"dataframe\">\n",
       "  <thead>\n",
       "    <tr style=\"text-align: right;\">\n",
       "      <th></th>\n",
       "      <th>tariff</th>\n",
       "      <th>mean</th>\n",
       "      <th>dispersion</th>\n",
       "      <th>std</th>\n",
       "    </tr>\n",
       "  </thead>\n",
       "  <tbody>\n",
       "    <tr>\n",
       "      <td>0</td>\n",
       "      <td>smart</td>\n",
       "      <td>16236.472621</td>\n",
       "      <td>3.444310e+07</td>\n",
       "      <td>5868.824472</td>\n",
       "    </tr>\n",
       "    <tr>\n",
       "      <td>1</td>\n",
       "      <td>ultra</td>\n",
       "      <td>19686.767179</td>\n",
       "      <td>9.904344e+07</td>\n",
       "      <td>9952.057054</td>\n",
       "    </tr>\n",
       "  </tbody>\n",
       "</table>\n",
       "</div>"
      ],
      "text/plain": [
       "  tariff          mean    dispersion          std\n",
       "0  smart  16236.472621  3.444310e+07  5868.824472\n",
       "1  ultra  19686.767179  9.904344e+07  9952.057054"
      ]
     },
     "execution_count": 324,
     "metadata": {},
     "output_type": "execute_result"
    }
   ],
   "source": [
    "internet_stat"
   ]
  },
  {
   "cell_type": "markdown",
   "metadata": {},
   "source": [
    "<font style=\"color:purple\">\n",
    "В обоих случаях вид распределения Пуассоновский (стремящийся к нормальному).\n",
    "\n",
    "Тариф Smart - характерен меньший разброс. Среднее потебление трафика выше стандартного пакета. Вид распределения немного даже скошен влево, как бы намекая, что пользователи вынуждены себя ограничивать.\n",
    "    \n",
    "Существенная часть пользователей тарифа Ultra также превышает включенный пакет траффика.    \n",
    "</font>    "
   ]
  },
  {
   "cell_type": "markdown",
   "metadata": {},
   "source": [
    "### Вывод\n",
    "\n",
    "В предсталенной выборке идет увеличение (линейное) кол-ва пользователей с каждым месяцем.\n",
    "\n",
    "Ежемесячный доход от обоих тарифов был почти одинаковым в начале года, но к концу smart ускоряет рост, а ultra отстал и замедляет рост.\n",
    "\n",
    "На конец года количество пользователей тарифа smart существенно больше и эта группа приносит основной доход.\n",
    "\n",
    "Средняя выручка от пользователя ultra существенно выше.\n",
    "\n",
    "Пользователи smart часто не укладываются в пакеты тарифного плана по всем видам услуг (звоки, сообщения, интерент), что создет доход сверх пакета.\n",
    "\n",
    "Пользователи ultra недовыбирают услуги по минутам разговора и сообщениям, но перебирают услуги интернета."
   ]
  },
  {
   "cell_type": "code",
   "execution_count": null,
   "metadata": {},
   "outputs": [],
   "source": [
    "display(call_stat)\n",
    "display(messages_stat)\n",
    "display(internet_stat)"
   ]
  },
  {
   "cell_type": "markdown",
   "metadata": {},
   "source": [
    "<a id=\"investigate\"></a>\n",
    "### Шаг 4. Проверка гипотез\n",
    "<a id=\"hyp_01\"></a>\n",
    "#### Шаг 4.1. Средняя выручка пользователей тарифов «Ультра» и «Смарт» различается"
   ]
  },
  {
   "cell_type": "markdown",
   "metadata": {},
   "source": [
    "Сформулируем гипотезы.\n",
    "\n",
    "*Нулевая гипотеза (равенство):*   Средняя выручка пользователей smart и ultra одинакова.\n",
    "\n",
    "*Альтернативная гипотеза (неравенство):*   Средние выручки smart и ultra различаются"
   ]
  },
  {
   "cell_type": "code",
   "execution_count": 342,
   "metadata": {},
   "outputs": [
    {
     "name": "stdout",
     "output_type": "stream",
     "text": [
      "p-значение:  5.26252224448908e-59\n",
      "Отвергаем нулевую гипотезу\n"
     ]
    }
   ],
   "source": [
    "# Проверка гипотезы о равенстве среднего двух генеральных совокупностей по взятым из них выборкам\n",
    "\n",
    "# Сатистический уровень значимости\n",
    "alpha = 0.05\n",
    "\n",
    "# В функцию нужно передать выборки доходов от пользоватлей обоих тарифов\n",
    "# Среднемесячная выручка по каждому пользователю у нас посчитана в tariff_stat['mean_income']\n",
    "# Остается только разделить на пользователей разных тарифов\n",
    "smart_revenue = tariff_stat.query('tariff == \"smart\"')['mean_income']\n",
    "ultra_revenue = tariff_stat.query('tariff == \"ultra\"')['mean_income']\n",
    "\n",
    "# Проверка гипотезы\n",
    "results = st.ttest_ind(smart_revenue, ultra_revenue, equal_var = False)\n",
    "# equal_var - считать ли равными дисперсии выборок, по умолчанию имеет значение True\n",
    "\n",
    "print('p-значение: ', results.pvalue)\n",
    "\n",
    "if (results.pvalue < alpha):\n",
    "    print(\"Отвергаем нулевую гипотезу\")\n",
    "else:\n",
    "    print(\"Не получилось отвергнуть нулевую гипотезу\") \n"
   ]
  },
  {
   "cell_type": "markdown",
   "metadata": {},
   "source": [
    "<font style=\"color:purple\">\n",
    "Мы проверяем гипотезу о равенстве средних двух генеральных совокупностей.\n",
    "equal_var = True при условиий, что обе совокупности имеют примерно равную дисперсию (совокупности схожи по параметрам).\n",
    "\n",
    "    Если дисперсии выборок отличаются, параметр equal_var = False. При этом при оценке дисперсия каждой выборки будет осуществляться раздельно, а не по дисперсии обобщенной выборки.\n",
    "  \n",
    "Посчитаем дисперсии выборок. При расчете оценк выборки нас будет интересовать несмещенная оценка, поэтому параметр ddof=1.\n",
    "</font>    "
   ]
  },
  {
   "cell_type": "code",
   "execution_count": 341,
   "metadata": {},
   "outputs": [
    {
     "name": "stdout",
     "output_type": "stream",
     "text": [
      "368949.21045947366\n",
      "90024.3759870695\n"
     ]
    }
   ],
   "source": [
    "# дисперсия считается функцией var\n",
    "smart_revenue_variance = np.var(smart_revenue, ddof=1)\n",
    "ultra_revenue_variance = np.var(ultra_revenue, ddof=1)\n",
    "print(smart_revenue_variance)\n",
    "print(ultra_revenue_variance)"
   ]
  },
  {
   "cell_type": "markdown",
   "metadata": {},
   "source": [
    "<font style=\"color:purple\">\n",
    "Убедились, что дисперсии выборок отличаются. Праметр equal_var = False выбран верно.\n",
    "</font>    "
   ]
  },
  {
   "cell_type": "markdown",
   "metadata": {},
   "source": [
    "<font style=\"color:purple\">\n",
    "Критерий Бартлетта проверяет равенство дисперсий выборок (0-я гипотеза). Критерий Бартлетта снован на дополнительном предположении о нормальности выборок данных и очень чувствителен к нарушению данного предположения.\n",
    "    \n",
    "Критерий Левена является альтернативой критерия Бартлетта в случае существенного отклонения от нормальности.\n",
    "    \n",
    "Попробуем.\n",
    "</font>    "
   ]
  },
  {
   "cell_type": "code",
   "execution_count": 340,
   "metadata": {},
   "outputs": [
    {
     "data": {
      "text/plain": [
       "<matplotlib.axes._subplots.AxesSubplot at 0x7f95121e2310>"
      ]
     },
     "execution_count": 340,
     "metadata": {},
     "output_type": "execute_result"
    },
    {
     "data": {
      "image/png": "[encoded data removed]",
      "text/plain": [
       "<Figure size 432x288 with 1 Axes>"
      ]
     },
     "metadata": {
      "needs_background": "light"
     },
     "output_type": "display_data"
    }
   ],
   "source": [
    "smart_revenue.hist(bins=30)\n",
    "ultra_revenue.hist(bins=30)"
   ]
  },
  {
   "cell_type": "code",
   "execution_count": 337,
   "metadata": {},
   "outputs": [
    {
     "name": "stdout",
     "output_type": "stream",
     "text": [
      "1.174839894968326e-18\n",
      "1.4822012091517145e-19\n"
     ]
    }
   ],
   "source": [
    "from scipy.stats import levene\n",
    "\n",
    "stat, p = levene(smart_revenue, ultra_revenue)\n",
    "print(p)\n",
    "\n",
    "from scipy.stats import bartlett\n",
    "stat, p = bartlett(smart_revenue, ultra_revenue)\n",
    "print(p)"
   ]
  },
  {
   "cell_type": "markdown",
   "metadata": {},
   "source": [
    "<font style=\"color:purple\">\n",
    "Выборки отклоняются от нормальног распределения. Верим критерию Бартлетта. Значение стремится к нулю. Выборки различаются.\n",
    "</font>    "
   ]
  },
  {
   "cell_type": "markdown",
   "metadata": {},
   "source": [
    "### Вывод\n",
    "\n",
    "Нельзя подтвердить гипотезу, что средняя выручка пользователей smart и ultra одинакова.\n",
    "Следовательно, подтверждаем, что средняя выручка от пользователей тарифов различается."
   ]
  },
  {
   "cell_type": "markdown",
   "metadata": {},
   "source": [
    "<a id=\"hyp_02\"></a>\n",
    "#### Шаг 4.2. Средняя выручка пользователей из Москвы отличается от выручки пользователей из других регионов"
   ]
  },
  {
   "cell_type": "markdown",
   "metadata": {},
   "source": [
    "Сформулируем гипотезы.\n",
    "\n",
    "*Нулевая гипотеза (равенство):*  Средняя выручка пользователей из Москвы равна средней выручке от пользователей из других регионов.\n",
    "\n",
    "*Альтернативная гипотеза (неравенство):*  Средняя выручка пользователей из Москвы и пользователей из других регионов не равны."
   ]
  },
  {
   "cell_type": "code",
   "execution_count": 343,
   "metadata": {},
   "outputs": [],
   "source": [
    "# В функцию нужно передать выборки доходов от пользоватлей обоих тарифов\n",
    "# Среднемесячная выручка по каждому пользователю у нас посчитана в tariff_stat['mean_income']\n",
    "# Остается только разделить на пользователей разных тарифов\n",
    "moscow_revenue = tariff_stat.query('city == \"Москва\"')['mean_income']\n",
    "not_moscow_revenue = tariff_stat.query('city != \"Москва\"')['mean_income']"
   ]
  },
  {
   "cell_type": "markdown",
   "metadata": {},
   "source": [
    "<font style=\"color:purple\">\n",
    "Проверим характер распределений и равенство дисперсий.\n",
    "</font>    "
   ]
  },
  {
   "cell_type": "code",
   "execution_count": 347,
   "metadata": {},
   "outputs": [
    {
     "data": {
      "text/plain": [
       "<matplotlib.axes._subplots.AxesSubplot at 0x7f95154eca10>"
      ]
     },
     "execution_count": 347,
     "metadata": {},
     "output_type": "execute_result"
    },
    {
     "data": {
      "image/png": "[encoded data removed]",
      "text/plain": [
       "<Figure size 432x288 with 1 Axes>"
      ]
     },
     "metadata": {
      "needs_background": "light"
     },
     "output_type": "display_data"
    }
   ],
   "source": [
    "moscow_revenue.hist(bins=30)"
   ]
  },
  {
   "cell_type": "code",
   "execution_count": 346,
   "metadata": {},
   "outputs": [
    {
     "data": {
      "text/plain": [
       "<matplotlib.axes._subplots.AxesSubplot at 0x7f95175124d0>"
      ]
     },
     "execution_count": 346,
     "metadata": {},
     "output_type": "execute_result"
    },
    {
     "data": {
      "image/png": "[encoded data removed]",
      "text/plain": [
       "<Figure size 432x288 with 1 Axes>"
      ]
     },
     "metadata": {
      "needs_background": "light"
     },
     "output_type": "display_data"
    }
   ],
   "source": [
    "not_moscow_revenue.hist(bins=30)"
   ]
  },
  {
   "cell_type": "code",
   "execution_count": 349,
   "metadata": {},
   "outputs": [
    {
     "name": "stdout",
     "output_type": "stream",
     "text": [
      "364839.96968346805\n",
      "416629.0435412805\n"
     ]
    }
   ],
   "source": [
    "# дисперсия считается функцией var\n",
    "moscow_revenue_variance = np.var(moscow_revenue, ddof=1)\n",
    "not_moscow_revenue_variance = np.var(not_moscow_revenue, ddof=1)\n",
    "print(moscow_revenue_variance)\n",
    "print(not_moscow_revenue_variance)"
   ]
  },
  {
   "cell_type": "code",
   "execution_count": 348,
   "metadata": {},
   "outputs": [
    {
     "name": "stdout",
     "output_type": "stream",
     "text": [
      "0.41217787165844977\n"
     ]
    }
   ],
   "source": [
    "stat, p = bartlett(moscow_revenue, not_moscow_revenue)\n",
    "print(p)"
   ]
  },
  {
   "cell_type": "markdown",
   "metadata": {},
   "source": [
    "<font style=\"color:purple\">\n",
    "Дисперсии довольно близки. При проверке гипотезы можно использовать параметр равенства дисперсий equal_var= True\n",
    "</font>    "
   ]
  },
  {
   "cell_type": "code",
   "execution_count": 350,
   "metadata": {},
   "outputs": [
    {
     "name": "stdout",
     "output_type": "stream",
     "text": [
      "p-значение:  0.38656613797487016\n",
      "Не получилось отвергнуть нулевую гипотезу\n"
     ]
    }
   ],
   "source": [
    "# Проверка гипотезы о равенстве среднего двух генеральных совокупностей по взятым из них выборкам\n",
    "\n",
    "# Сатистический уровень значимости\n",
    "alpha = 0.05\n",
    "\n",
    "# Проверка гипотезы\n",
    "results = st.ttest_ind(moscow_revenue, not_moscow_revenue, equal_var = True)\n",
    "# equal_var - считать ли равными дисперсии выборок, по умолчанию имеет значение True\n",
    "\n",
    "print('p-значение: ', results.pvalue)\n",
    "\n",
    "if (results.pvalue < alpha):\n",
    "    print(\"Отвергаем нулевую гипотезу\")\n",
    "else:\n",
    "    print(\"Не получилось отвергнуть нулевую гипотезу\") \n"
   ]
  },
  {
   "cell_type": "markdown",
   "metadata": {},
   "source": [
    "### Вывод\n",
    "Нулевая гипотеза подтверждается: Средняя выручка пользоватлей из Москвы равна средней выручке пользователей из других регионов."
   ]
  },
  {
   "cell_type": "markdown",
   "metadata": {},
   "source": [
    "<a id=\"final\"></a>\n",
    "### Шаг 3. Общий вывод\n",
    "\n",
    "Выводы написаны на каждом шагу.\n",
    "\n",
    "Обобщая их можно сделать следующие выводы:\n",
    "\n",
    "- Тарифный план smart на конец 2018 года приносит больший суммарный доход, т.к. идет более интенсивный рост количества пользователей и сумарного дохода. Доход от пользователей ultra растет, но динамика замедляется.\n",
    "\n",
    "- Пользователи тарифного плана smart приносят дополнительный доход за счет пользования услугами свыше пакета услуг по всем видам услуг.\n",
    "\n",
    "- Пользователи тарифного плана ultra не пользуются включенными пакетами минут разговора и сообщений в полном объеме, но допускают превышение трафика интернет.Соответственно, доход от клиента формируется в основном размером абонентской платы. Возможно, несоответствие пакета услуг потребностям снижает привлекательность тарифа.\n",
    "\n",
    "- Средний доход от пользователя тарифа smart и ultra различаются. Средний доход от ultra выше.\n",
    "\n",
    "- Средний доход от пользователя из Москвы не отличается от пользователей из других регионов.\n"
   ]
  }
 ],
 "metadata": {
  "kernelspec": {
   "display_name": "Python 3",
   "language": "python",
   "name": "python3"
  },
  "language_info": {
   "codemirror_mode": {
    "name": "ipython",
    "version": 3
   },
   "file_extension": ".py",
   "mimetype": "text/x-python",
   "name": "python",
   "nbconvert_exporter": "python",
   "pygments_lexer": "ipython3",
   "version": "3.7.6"
  }
 },
 "nbformat": 4,
 "nbformat_minor": 2
}
